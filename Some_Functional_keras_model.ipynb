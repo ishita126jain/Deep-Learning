{
  "nbformat": 4,
  "nbformat_minor": 0,
  "metadata": {
    "colab": {
      "provenance": []
    },
    "kernelspec": {
      "name": "python3",
      "display_name": "Python 3"
    },
    "language_info": {
      "name": "python"
    }
  },
  "cells": [
    {
      "cell_type": "code",
      "execution_count": null,
      "metadata": {
        "id": "sh4BS89l7kGe"
      },
      "outputs": [],
      "source": [
        "from keras.models import Model\n",
        "from keras.layers import Dense\n",
        "from keras.layers import Input\n",
        "from keras.layers import concatenate"
      ]
    },
    {
      "cell_type": "code",
      "source": [
        "input_A = Input(shape=[5])\n",
        "input_B = Input(shape=[6])\n",
        "hidden1 = Dense(30,activation=\"relu\")(input_B)\n",
        "hidden2 = Dense(30,activation=\"relu\")(hidden1)\n",
        "c = concatenate([input_A,hidden2])\n",
        "output = Dense(1)(c)\n",
        "model = Model([input_A,input_B],output)"
      ],
      "metadata": {
        "id": "Bi2CGuku8KIT"
      },
      "execution_count": null,
      "outputs": []
    },
    {
      "cell_type": "code",
      "source": [],
      "metadata": {
        "id": "Q99W_ZD-_rU_"
      },
      "execution_count": null,
      "outputs": []
    }
  ]
}
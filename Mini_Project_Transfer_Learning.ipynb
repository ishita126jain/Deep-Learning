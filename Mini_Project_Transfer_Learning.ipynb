{
  "nbformat": 4,
  "nbformat_minor": 0,
  "metadata": {
    "colab": {
      "provenance": []
    },
    "kernelspec": {
      "name": "python3",
      "display_name": "Python 3"
    },
    "language_info": {
      "name": "python"
    }
  },
  "cells": [
    {
      "cell_type": "code",
      "execution_count": 1,
      "metadata": {
        "id": "0kcaU8atKv0c"
      },
      "outputs": [],
      "source": [
        "import numpy as np\n",
        "import pandas as pd\n",
        "from keras.datasets import fashion_mnist\n",
        "from keras import optimizers\n",
        "from keras.models import Sequential, load_model, clone_model\n",
        "from keras.layers import Dense, Flatten"
      ]
    },
    {
      "cell_type": "code",
      "source": [
        "(X_train,y_train),(X_test,y_test) = fashion_mnist.load_data()"
      ],
      "metadata": {
        "id": "4LqueDF1Gm9p"
      },
      "execution_count": 2,
      "outputs": []
    },
    {
      "cell_type": "code",
      "source": [
        "X_train.shape"
      ],
      "metadata": {
        "colab": {
          "base_uri": "https://localhost:8080/"
        },
        "id": "XXINJyetSBKu",
        "outputId": "dd960a39-0339-4a31-eb5c-e94a4a6d0fa1"
      },
      "execution_count": 3,
      "outputs": [
        {
          "output_type": "execute_result",
          "data": {
            "text/plain": [
              "(60000, 28, 28)"
            ]
          },
          "metadata": {},
          "execution_count": 3
        }
      ]
    },
    {
      "cell_type": "code",
      "source": [
        "selected_classes = [0, 1, 2, 3, 4, 5, 6, 7]\n",
        "class_names = ['T-shirt/top', 'Trouser', 'Pullover', 'Dress', 'Coat', 'Sandal', 'Shirt', 'Sneaker']"
      ],
      "metadata": {
        "id": "XxCE6aCJqYBp"
      },
      "execution_count": 4,
      "outputs": []
    },
    {
      "cell_type": "code",
      "source": [
        "train_ind = np.isin(y_train, selected_classes)\n",
        "test_ind = np.isin(y_test, selected_classes)"
      ],
      "metadata": {
        "id": "zckqbRCUr5MG"
      },
      "execution_count": 5,
      "outputs": []
    },
    {
      "cell_type": "code",
      "source": [
        "X_train_A = X_train[train_ind]\n",
        "y_train_A = y_train[train_ind]\n",
        "X_test_A = X_test[test_ind]\n",
        "y_test_A = y_test[test_ind]"
      ],
      "metadata": {
        "id": "kKRNxug5sUdB"
      },
      "execution_count": 6,
      "outputs": []
    },
    {
      "cell_type": "code",
      "source": [
        "print(X_train_A.shape)\n",
        "print(y_train_A.shape)"
      ],
      "metadata": {
        "colab": {
          "base_uri": "https://localhost:8080/"
        },
        "id": "6uoU5yMoxz4z",
        "outputId": "22a2081f-3e9a-4195-9c2f-0821c83af158"
      },
      "execution_count": 7,
      "outputs": [
        {
          "output_type": "stream",
          "name": "stdout",
          "text": [
            "(48000, 28, 28)\n",
            "(48000,)\n"
          ]
        }
      ]
    },
    {
      "cell_type": "code",
      "source": [
        "X_train_A = X_train_A.astype('float32') / 255.0\n",
        "X_test_A = X_test_A.astype('float32') / 255.0"
      ],
      "metadata": {
        "id": "BGYaAx7tO_gR"
      },
      "execution_count": 8,
      "outputs": []
    },
    {
      "cell_type": "code",
      "source": [
        "model_A = Sequential([\n",
        "    Flatten(input_shape=(28, 28)),\n",
        "    Dense(128, activation='relu'),\n",
        "    Dense(64, activation='relu'),\n",
        "    Dense(8, activation='softmax')\n",
        "])"
      ],
      "metadata": {
        "id": "nB4ON_a7QEy7"
      },
      "execution_count": 9,
      "outputs": []
    },
    {
      "cell_type": "code",
      "source": [
        "model_A.compile(optimizer='adam',loss='sparse_categorical_crossentropy',metrics=['accuracy'])\n",
        "model_A.fit(X_train_A, y_train_A, epochs=5)"
      ],
      "metadata": {
        "colab": {
          "base_uri": "https://localhost:8080/"
        },
        "id": "K3LYl-h0RVu2",
        "outputId": "c48cd76d-5d00-4248-e8cd-9e83e04974fe"
      },
      "execution_count": 10,
      "outputs": [
        {
          "output_type": "stream",
          "name": "stdout",
          "text": [
            "Epoch 1/5\n",
            "1500/1500 [==============================] - 8s 5ms/step - loss: 0.5162 - accuracy: 0.8107\n",
            "Epoch 2/5\n",
            "1500/1500 [==============================] - 13s 9ms/step - loss: 0.3963 - accuracy: 0.8513\n",
            "Epoch 3/5\n",
            "1500/1500 [==============================] - 8s 6ms/step - loss: 0.3620 - accuracy: 0.8627\n",
            "Epoch 4/5\n",
            "1500/1500 [==============================] - 7s 5ms/step - loss: 0.3387 - accuracy: 0.8733\n",
            "Epoch 5/5\n",
            "1500/1500 [==============================] - 8s 5ms/step - loss: 0.3210 - accuracy: 0.8796\n"
          ]
        },
        {
          "output_type": "execute_result",
          "data": {
            "text/plain": [
              "<keras.callbacks.History at 0x7f959ee41a30>"
            ]
          },
          "metadata": {},
          "execution_count": 10
        }
      ]
    },
    {
      "cell_type": "code",
      "source": [
        "loss, accuracy = model_A.evaluate(X_test_A, y_test_A)"
      ],
      "metadata": {
        "colab": {
          "base_uri": "https://localhost:8080/"
        },
        "id": "Um_GU89RyA-i",
        "outputId": "0b7f918c-4258-4bbf-a845-78d364d7aa41"
      },
      "execution_count": 11,
      "outputs": [
        {
          "output_type": "stream",
          "name": "stdout",
          "text": [
            "250/250 [==============================] - 1s 2ms/step - loss: 0.3814 - accuracy: 0.8602\n"
          ]
        }
      ]
    },
    {
      "cell_type": "code",
      "source": [
        "name_of_classes = ['T-shirt/top', 'Trouser', 'Pullover', 'Dress', 'Coat', 'Sandal', 'Shirt', 'Sneaker','Bag','Ankle boot']"
      ],
      "metadata": {
        "id": "dgS2gq2l0jrV"
      },
      "execution_count": 12,
      "outputs": []
    },
    {
      "cell_type": "code",
      "source": [
        "class_ind = [name_of_classes.index('Bag'), name_of_classes.index('Ankle boot')]"
      ],
      "metadata": {
        "id": "j4sKfa9W5ZDH"
      },
      "execution_count": 13,
      "outputs": []
    },
    {
      "cell_type": "code",
      "source": [
        "X_train_B = X_train[(y_train == class_ind[0]) | (y_train == class_ind[1])]\n",
        "y_train_B = y_train[(y_train == class_ind[0]) | (y_train == class_ind[1])]"
      ],
      "metadata": {
        "id": "I-AJfSGV677G"
      },
      "execution_count": 14,
      "outputs": []
    },
    {
      "cell_type": "code",
      "source": [
        "X_test_B = X_test[(y_test == class_ind[0]) | (y_test == class_ind[1])]\n",
        "y_test_B = y_test[(y_test == class_ind[0]) | (y_test == class_ind[1])]"
      ],
      "metadata": {
        "id": "HQkeceaR76ls"
      },
      "execution_count": 15,
      "outputs": []
    },
    {
      "cell_type": "code",
      "source": [
        "X_train_B.shape"
      ],
      "metadata": {
        "colab": {
          "base_uri": "https://localhost:8080/"
        },
        "id": "rMQ09lHs8LzX",
        "outputId": "efbe9a92-2491-4da9-a7c7-494162721f60"
      },
      "execution_count": 16,
      "outputs": [
        {
          "output_type": "execute_result",
          "data": {
            "text/plain": [
              "(12000, 28, 28)"
            ]
          },
          "metadata": {},
          "execution_count": 16
        }
      ]
    },
    {
      "cell_type": "code",
      "source": [
        "y_train_B"
      ],
      "metadata": {
        "colab": {
          "base_uri": "https://localhost:8080/"
        },
        "id": "pCdMLY6O8Shf",
        "outputId": "db55dd82-23d6-4366-d512-0e2e491b5e47"
      },
      "execution_count": 17,
      "outputs": [
        {
          "output_type": "execute_result",
          "data": {
            "text/plain": [
              "array([9, 9, 9, ..., 9, 9, 8], dtype=uint8)"
            ]
          },
          "metadata": {},
          "execution_count": 17
        }
      ]
    },
    {
      "cell_type": "code",
      "source": [
        "y_train_B = (y_train_B == class_ind[1]).astype(int)\n",
        "y_test_B = (y_test_B == class_ind[1]).astype(int)"
      ],
      "metadata": {
        "id": "WZCcEvaG8iAJ"
      },
      "execution_count": 18,
      "outputs": []
    },
    {
      "cell_type": "code",
      "source": [
        "y_test_B.shape"
      ],
      "metadata": {
        "colab": {
          "base_uri": "https://localhost:8080/"
        },
        "id": "jSI7MNPO819p",
        "outputId": "61e54283-4c90-4288-8c55-e2a6093a36f1"
      },
      "execution_count": 19,
      "outputs": [
        {
          "output_type": "execute_result",
          "data": {
            "text/plain": [
              "(2000,)"
            ]
          },
          "metadata": {},
          "execution_count": 19
        }
      ]
    },
    {
      "cell_type": "code",
      "source": [
        "model_B_on_A = Sequential(model_A.layers[:-1])"
      ],
      "metadata": {
        "id": "ByoZvadu83sl"
      },
      "execution_count": 20,
      "outputs": []
    },
    {
      "cell_type": "code",
      "source": [
        "model_B_on_A.add(Dense(1, activation=\"sigmoid\"))"
      ],
      "metadata": {
        "id": "efQXOQL19Brn"
      },
      "execution_count": 21,
      "outputs": []
    },
    {
      "cell_type": "code",
      "source": [
        "model_A_clone = clone_model(model_A)\n",
        "model_A_clone.set_weights(model_A.get_weights())"
      ],
      "metadata": {
        "id": "kFQrqOcW9MsU"
      },
      "execution_count": 22,
      "outputs": []
    },
    {
      "cell_type": "code",
      "source": [
        "for layer in model_B_on_A.layers[:-1]:\n",
        " layer.trainable = False"
      ],
      "metadata": {
        "id": "I4b0zL8e9Pfb"
      },
      "execution_count": 23,
      "outputs": []
    },
    {
      "cell_type": "code",
      "source": [
        "model_B_on_A.compile(loss=\"binary_crossentropy\", optimizer=\"sgd\",\n",
        " metrics=[\"accuracy\"])"
      ],
      "metadata": {
        "id": "ewMz86Vg9X1D"
      },
      "execution_count": 24,
      "outputs": []
    },
    {
      "cell_type": "code",
      "source": [
        "model_B_on_A.fit(X_train_B, y_train_B, epochs=5)"
      ],
      "metadata": {
        "colab": {
          "base_uri": "https://localhost:8080/"
        },
        "id": "JevCaaeP9aiM",
        "outputId": "729fa1bb-c493-4788-ac01-a33dc2fc4fc9"
      },
      "execution_count": 25,
      "outputs": [
        {
          "output_type": "stream",
          "name": "stdout",
          "text": [
            "Epoch 1/5\n",
            "375/375 [==============================] - 1s 2ms/step - loss: 21.6199 - accuracy: 0.9869\n",
            "Epoch 2/5\n",
            "375/375 [==============================] - 1s 2ms/step - loss: 8.6157 - accuracy: 0.9946\n",
            "Epoch 3/5\n",
            "375/375 [==============================] - 1s 2ms/step - loss: 9.5981 - accuracy: 0.9942\n",
            "Epoch 4/5\n",
            "375/375 [==============================] - 1s 2ms/step - loss: 7.6346 - accuracy: 0.9952\n",
            "Epoch 5/5\n",
            "375/375 [==============================] - 1s 3ms/step - loss: 6.3231 - accuracy: 0.9950\n"
          ]
        },
        {
          "output_type": "execute_result",
          "data": {
            "text/plain": [
              "<keras.callbacks.History at 0x7f95a9fb7550>"
            ]
          },
          "metadata": {},
          "execution_count": 25
        }
      ]
    },
    {
      "cell_type": "code",
      "source": [
        "for layer in model_B_on_A.layers[:-1]:\n",
        " layer.trainable = True"
      ],
      "metadata": {
        "id": "nizkrlWb97xh"
      },
      "execution_count": 26,
      "outputs": []
    },
    {
      "cell_type": "code",
      "source": [
        "optimizer = optimizers.SGD(lr=1e-4)\n",
        "model_B_on_A.compile(loss=\"binary_crossentropy\", optimizer=optimizer,metrics=[\"accuracy\"])\n",
        "model_B_on_A.fit(X_train_B, y_train_B, epochs=16)"
      ],
      "metadata": {
        "colab": {
          "base_uri": "https://localhost:8080/"
        },
        "id": "6CFOyZiI-BSi",
        "outputId": "c0ae2983-4258-4049-effe-a4ada2c62eae"
      },
      "execution_count": 28,
      "outputs": [
        {
          "output_type": "stream",
          "name": "stdout",
          "text": [
            "Epoch 1/16\n",
            "375/375 [==============================] - 2s 4ms/step - loss: 6.7856 - accuracy: 0.9958\n",
            "Epoch 2/16\n",
            "375/375 [==============================] - 1s 4ms/step - loss: 2.0427 - accuracy: 0.9984\n",
            "Epoch 3/16\n",
            "375/375 [==============================] - 1s 3ms/step - loss: 1.3355 - accuracy: 0.9982\n",
            "Epoch 4/16\n",
            "375/375 [==============================] - 1s 3ms/step - loss: 0.7696 - accuracy: 0.9988\n",
            "Epoch 5/16\n",
            "375/375 [==============================] - 1s 3ms/step - loss: 0.0748 - accuracy: 0.9998\n",
            "Epoch 6/16\n",
            "375/375 [==============================] - 1s 3ms/step - loss: 0.0779 - accuracy: 0.9997\n",
            "Epoch 7/16\n",
            "375/375 [==============================] - 1s 3ms/step - loss: 0.3543 - accuracy: 0.9994\n",
            "Epoch 8/16\n",
            "375/375 [==============================] - 1s 3ms/step - loss: 0.1093 - accuracy: 0.9998\n",
            "Epoch 9/16\n",
            "375/375 [==============================] - 1s 3ms/step - loss: 1.8267e-07 - accuracy: 1.0000\n",
            "Epoch 10/16\n",
            "375/375 [==============================] - 1s 3ms/step - loss: 2.1413e-08 - accuracy: 1.0000\n",
            "Epoch 11/16\n",
            "375/375 [==============================] - 1s 3ms/step - loss: 1.5218e-08 - accuracy: 1.0000\n",
            "Epoch 12/16\n",
            "375/375 [==============================] - 2s 5ms/step - loss: 1.1942e-08 - accuracy: 1.0000\n",
            "Epoch 13/16\n",
            "375/375 [==============================] - 1s 4ms/step - loss: 9.8740e-09 - accuracy: 1.0000\n",
            "Epoch 14/16\n",
            "375/375 [==============================] - 1s 3ms/step - loss: 8.4545e-09 - accuracy: 1.0000\n",
            "Epoch 15/16\n",
            "375/375 [==============================] - 1s 3ms/step - loss: 7.3900e-09 - accuracy: 1.0000\n",
            "Epoch 16/16\n",
            "375/375 [==============================] - 1s 3ms/step - loss: 6.5718e-09 - accuracy: 1.0000\n"
          ]
        },
        {
          "output_type": "execute_result",
          "data": {
            "text/plain": [
              "<keras.callbacks.History at 0x7f95abd2fa60>"
            ]
          },
          "metadata": {},
          "execution_count": 28
        }
      ]
    },
    {
      "cell_type": "code",
      "source": [
        "loss, accuracy = model_B_on_A.evaluate(X_test_B, y_test_B)"
      ],
      "metadata": {
        "colab": {
          "base_uri": "https://localhost:8080/"
        },
        "id": "iESBUICI9rs3",
        "outputId": "b046d4b6-16c0-4601-e5a8-4073c3dd53c6"
      },
      "execution_count": 29,
      "outputs": [
        {
          "output_type": "stream",
          "name": "stdout",
          "text": [
            "63/63 [==============================] - 0s 2ms/step - loss: 10.7250 - accuracy: 0.9975\n"
          ]
        }
      ]
    }
  ]
}
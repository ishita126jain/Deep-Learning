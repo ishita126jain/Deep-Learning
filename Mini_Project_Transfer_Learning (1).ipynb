{
  "nbformat": 4,
  "nbformat_minor": 0,
  "metadata": {
    "colab": {
      "provenance": []
    },
    "kernelspec": {
      "name": "python3",
      "display_name": "Python 3"
    },
    "language_info": {
      "name": "python"
    }
  },
  "cells": [
    {
      "cell_type": "code",
      "execution_count": null,
      "metadata": {
        "id": "0kcaU8atKv0c"
      },
      "outputs": [],
      "source": [
        "#importing all the libraries\n",
        "import numpy as np\n",
        "import pandas as pd\n",
        "from keras.datasets import fashion_mnist\n",
        "from keras import optimizers\n",
        "from keras.models import Sequential, load_model, clone_model\n",
        "from keras.layers import Dense, Flatten"
      ]
    },
    {
      "cell_type": "code",
      "source": [
        "#Loading the dataset\n",
        "(X_train,y_train),(X_test,y_test) = fashion_mnist.load_data()"
      ],
      "metadata": {
        "id": "4LqueDF1Gm9p"
      },
      "execution_count": null,
      "outputs": []
    },
    {
      "cell_type": "code",
      "source": [
        "X_train.shape"
      ],
      "metadata": {
        "colab": {
          "base_uri": "https://localhost:8080/"
        },
        "id": "XXINJyetSBKu",
        "outputId": "49d943ef-fda1-40d7-d08c-6fcdbb864a51"
      },
      "execution_count": null,
      "outputs": [
        {
          "output_type": "execute_result",
          "data": {
            "text/plain": [
              "(60000, 28, 28)"
            ]
          },
          "metadata": {},
          "execution_count": 21
        }
      ]
    },
    {
      "cell_type": "code",
      "source": [
        "#Taking only 8 classes from fmnist dataset(except bag and ankle boots)\n",
        "selected_classes = [0, 1, 2, 3, 4, 5, 6, 7]\n",
        "class_names = ['T-shirt/top', 'Trouser', 'Pullover', 'Dress', 'Coat', 'Sandal', 'Shirt', 'Sneaker']"
      ],
      "metadata": {
        "id": "XxCE6aCJqYBp"
      },
      "execution_count": null,
      "outputs": []
    },
    {
      "cell_type": "code",
      "source": [
        "#Creating the dataset with 8 classes only\n",
        "train_ind = np.isin(y_train, selected_classes)\n",
        "test_ind = np.isin(y_test, selected_classes)"
      ],
      "metadata": {
        "id": "zckqbRCUr5MG"
      },
      "execution_count": null,
      "outputs": []
    },
    {
      "cell_type": "code",
      "source": [
        "print(train_ind)\n",
        "print(test_ind)"
      ],
      "metadata": {
        "colab": {
          "base_uri": "https://localhost:8080/"
        },
        "id": "ivZ9FSUyR52P",
        "outputId": "5fd4611e-f6cf-456e-8421-7e40425f0e72"
      },
      "execution_count": null,
      "outputs": [
        {
          "output_type": "stream",
          "name": "stdout",
          "text": [
            "[False  True  True ...  True  True  True]\n",
            "[False  True  True ... False  True  True]\n"
          ]
        }
      ]
    },
    {
      "cell_type": "code",
      "source": [
        "X_train_A = X_train[train_ind]\n",
        "y_train_A = y_train[train_ind]\n",
        "X_test_A = X_test[test_ind]\n",
        "y_test_A = y_test[test_ind]"
      ],
      "metadata": {
        "id": "kKRNxug5sUdB"
      },
      "execution_count": null,
      "outputs": []
    },
    {
      "cell_type": "code",
      "source": [
        "X_train_A[0][1]"
      ],
      "metadata": {
        "colab": {
          "base_uri": "https://localhost:8080/"
        },
        "id": "SDtaqzksSURd",
        "outputId": "d4b5f15f-5c27-4d38-e138-cec962166591"
      },
      "execution_count": null,
      "outputs": [
        {
          "output_type": "execute_result",
          "data": {
            "text/plain": [
              "array([  0,   0,   0,   1,   0,   0,   0,  49, 136, 219, 216, 228, 236,\n",
              "       255, 255, 255, 255, 217, 215, 254, 231, 160,  45,   0,   0,   0,\n",
              "         0,   0], dtype=uint8)"
            ]
          },
          "metadata": {},
          "execution_count": 26
        }
      ]
    },
    {
      "cell_type": "code",
      "source": [
        "print(X_train_A.shape)\n",
        "print(y_train_A.shape)"
      ],
      "metadata": {
        "colab": {
          "base_uri": "https://localhost:8080/"
        },
        "id": "6uoU5yMoxz4z",
        "outputId": "338ce01f-d7fc-4b3b-9f29-32c38f34b35c"
      },
      "execution_count": null,
      "outputs": [
        {
          "output_type": "stream",
          "name": "stdout",
          "text": [
            "(48000, 28, 28)\n",
            "(48000,)\n"
          ]
        }
      ]
    },
    {
      "cell_type": "code",
      "source": [
        "#Converting the data type from int to float and also scalling the data between 0 and 1\n",
        "X_train_A = X_train_A.astype('float32') / 255.0\n",
        "X_test_A = X_test_A.astype('float32') / 255.0"
      ],
      "metadata": {
        "id": "BGYaAx7tO_gR"
      },
      "execution_count": null,
      "outputs": []
    },
    {
      "cell_type": "code",
      "source": [
        "X_train_A[0][1]"
      ],
      "metadata": {
        "colab": {
          "base_uri": "https://localhost:8080/"
        },
        "id": "Bu8THdD9TvqR",
        "outputId": "2070020b-cb1b-4951-ae23-d604eec62a1d"
      },
      "execution_count": null,
      "outputs": [
        {
          "output_type": "execute_result",
          "data": {
            "text/plain": [
              "array([0.        , 0.        , 0.        , 0.00392157, 0.        ,\n",
              "       0.        , 0.        , 0.19215687, 0.53333336, 0.85882354,\n",
              "       0.84705883, 0.89411765, 0.9254902 , 1.        , 1.        ,\n",
              "       1.        , 1.        , 0.8509804 , 0.84313726, 0.99607843,\n",
              "       0.90588236, 0.627451  , 0.1764706 , 0.        , 0.        ,\n",
              "       0.        , 0.        , 0.        ], dtype=float32)"
            ]
          },
          "metadata": {},
          "execution_count": 29
        }
      ]
    },
    {
      "cell_type": "code",
      "source": [
        "#Creating model_A \n",
        "model_A = Sequential([\n",
        "    Flatten(input_shape=(28, 28)),\n",
        "    Dense(128, activation='relu'),\n",
        "    Dense(64, activation='relu'),\n",
        "    Dense(8, activation='softmax')\n",
        "])"
      ],
      "metadata": {
        "id": "nB4ON_a7QEy7"
      },
      "execution_count": null,
      "outputs": []
    },
    {
      "cell_type": "code",
      "source": [
        "#Training model A\n",
        "model_A.compile(optimizer='adam',loss='sparse_categorical_crossentropy',metrics=['accuracy'])\n",
        "model_A.fit(X_train_A, y_train_A, epochs=5)"
      ],
      "metadata": {
        "colab": {
          "base_uri": "https://localhost:8080/"
        },
        "id": "K3LYl-h0RVu2",
        "outputId": "c48cd76d-5d00-4248-e8cd-9e83e04974fe"
      },
      "execution_count": null,
      "outputs": [
        {
          "output_type": "stream",
          "name": "stdout",
          "text": [
            "Epoch 1/5\n",
            "1500/1500 [==============================] - 8s 5ms/step - loss: 0.5162 - accuracy: 0.8107\n",
            "Epoch 2/5\n",
            "1500/1500 [==============================] - 13s 9ms/step - loss: 0.3963 - accuracy: 0.8513\n",
            "Epoch 3/5\n",
            "1500/1500 [==============================] - 8s 6ms/step - loss: 0.3620 - accuracy: 0.8627\n",
            "Epoch 4/5\n",
            "1500/1500 [==============================] - 7s 5ms/step - loss: 0.3387 - accuracy: 0.8733\n",
            "Epoch 5/5\n",
            "1500/1500 [==============================] - 8s 5ms/step - loss: 0.3210 - accuracy: 0.8796\n"
          ]
        },
        {
          "output_type": "execute_result",
          "data": {
            "text/plain": [
              "<keras.callbacks.History at 0x7f959ee41a30>"
            ]
          },
          "metadata": {},
          "execution_count": 10
        }
      ]
    },
    {
      "cell_type": "code",
      "source": [
        "loss, accuracy = model_A.evaluate(X_test_A, y_test_A)"
      ],
      "metadata": {
        "colab": {
          "base_uri": "https://localhost:8080/"
        },
        "id": "Um_GU89RyA-i",
        "outputId": "0b7f918c-4258-4bbf-a845-78d364d7aa41"
      },
      "execution_count": null,
      "outputs": [
        {
          "output_type": "stream",
          "name": "stdout",
          "text": [
            "250/250 [==============================] - 1s 2ms/step - loss: 0.3814 - accuracy: 0.8602\n"
          ]
        }
      ]
    },
    {
      "cell_type": "code",
      "source": [
        "#Now creating dataset for two remaning classes i.e bag and ankle boot\n",
        "name_of_classes = ['T-shirt/top', 'Trouser', 'Pullover', 'Dress', 'Coat', 'Sandal', 'Shirt', 'Sneaker','Bag','Ankle boot']"
      ],
      "metadata": {
        "id": "dgS2gq2l0jrV"
      },
      "execution_count": null,
      "outputs": []
    },
    {
      "cell_type": "code",
      "source": [
        "class_ind = [name_of_classes.index('Bag'), name_of_classes.index('Ankle boot')]"
      ],
      "metadata": {
        "id": "j4sKfa9W5ZDH"
      },
      "execution_count": null,
      "outputs": []
    },
    {
      "cell_type": "code",
      "source": [
        "X_train_B = X_train[(y_train == class_ind[0]) | (y_train == class_ind[1])]\n",
        "y_train_B = y_train[(y_train == class_ind[0]) | (y_train == class_ind[1])]"
      ],
      "metadata": {
        "id": "I-AJfSGV677G"
      },
      "execution_count": null,
      "outputs": []
    },
    {
      "cell_type": "code",
      "source": [
        "X_test_B = X_test[(y_test == class_ind[0]) | (y_test == class_ind[1])]\n",
        "y_test_B = y_test[(y_test == class_ind[0]) | (y_test == class_ind[1])]"
      ],
      "metadata": {
        "id": "HQkeceaR76ls"
      },
      "execution_count": null,
      "outputs": []
    },
    {
      "cell_type": "code",
      "source": [
        "X_train_B.shape"
      ],
      "metadata": {
        "colab": {
          "base_uri": "https://localhost:8080/"
        },
        "id": "rMQ09lHs8LzX",
        "outputId": "efbe9a92-2491-4da9-a7c7-494162721f60"
      },
      "execution_count": null,
      "outputs": [
        {
          "output_type": "execute_result",
          "data": {
            "text/plain": [
              "(12000, 28, 28)"
            ]
          },
          "metadata": {},
          "execution_count": 16
        }
      ]
    },
    {
      "cell_type": "code",
      "source": [
        "y_train_B"
      ],
      "metadata": {
        "colab": {
          "base_uri": "https://localhost:8080/"
        },
        "id": "pCdMLY6O8Shf",
        "outputId": "db55dd82-23d6-4366-d512-0e2e491b5e47"
      },
      "execution_count": null,
      "outputs": [
        {
          "output_type": "execute_result",
          "data": {
            "text/plain": [
              "array([9, 9, 9, ..., 9, 9, 8], dtype=uint8)"
            ]
          },
          "metadata": {},
          "execution_count": 17
        }
      ]
    },
    {
      "cell_type": "code",
      "source": [
        "y_train_B = (y_train_B == class_ind[1]).astype(int)\n",
        "y_test_B = (y_test_B == class_ind[1]).astype(int)"
      ],
      "metadata": {
        "id": "WZCcEvaG8iAJ"
      },
      "execution_count": null,
      "outputs": []
    },
    {
      "cell_type": "code",
      "source": [
        "y_test_B.shape"
      ],
      "metadata": {
        "colab": {
          "base_uri": "https://localhost:8080/"
        },
        "id": "jSI7MNPO819p",
        "outputId": "61e54283-4c90-4288-8c55-e2a6093a36f1"
      },
      "execution_count": null,
      "outputs": [
        {
          "output_type": "execute_result",
          "data": {
            "text/plain": [
              "(2000,)"
            ]
          },
          "metadata": {},
          "execution_count": 19
        }
      ]
    },
    {
      "cell_type": "code",
      "source": [
        "#Transfer Learning\n",
        "model_B_on_A = Sequential(model_A.layers[:-1])"
      ],
      "metadata": {
        "id": "ByoZvadu83sl"
      },
      "execution_count": null,
      "outputs": []
    },
    {
      "cell_type": "code",
      "source": [
        "model_B_on_A.add(Dense(1, activation=\"sigmoid\"))"
      ],
      "metadata": {
        "id": "efQXOQL19Brn"
      },
      "execution_count": null,
      "outputs": []
    },
    {
      "cell_type": "code",
      "source": [
        "model_A_clone = clone_model(model_A)\n",
        "model_A_clone.set_weights(model_A.get_weights())"
      ],
      "metadata": {
        "id": "kFQrqOcW9MsU"
      },
      "execution_count": null,
      "outputs": []
    },
    {
      "cell_type": "code",
      "source": [
        "for layer in model_B_on_A.layers[:-1]:\n",
        " layer.trainable = False"
      ],
      "metadata": {
        "id": "I4b0zL8e9Pfb"
      },
      "execution_count": null,
      "outputs": []
    },
    {
      "cell_type": "code",
      "source": [
        "model_B_on_A.compile(loss=\"binary_crossentropy\", optimizer=\"sgd\",\n",
        " metrics=[\"accuracy\"])"
      ],
      "metadata": {
        "id": "ewMz86Vg9X1D"
      },
      "execution_count": null,
      "outputs": []
    },
    {
      "cell_type": "code",
      "source": [
        "model_B_on_A.fit(X_train_B, y_train_B, epochs=5)"
      ],
      "metadata": {
        "colab": {
          "base_uri": "https://localhost:8080/"
        },
        "id": "JevCaaeP9aiM",
        "outputId": "729fa1bb-c493-4788-ac01-a33dc2fc4fc9"
      },
      "execution_count": null,
      "outputs": [
        {
          "output_type": "stream",
          "name": "stdout",
          "text": [
            "Epoch 1/5\n",
            "375/375 [==============================] - 1s 2ms/step - loss: 21.6199 - accuracy: 0.9869\n",
            "Epoch 2/5\n",
            "375/375 [==============================] - 1s 2ms/step - loss: 8.6157 - accuracy: 0.9946\n",
            "Epoch 3/5\n",
            "375/375 [==============================] - 1s 2ms/step - loss: 9.5981 - accuracy: 0.9942\n",
            "Epoch 4/5\n",
            "375/375 [==============================] - 1s 2ms/step - loss: 7.6346 - accuracy: 0.9952\n",
            "Epoch 5/5\n",
            "375/375 [==============================] - 1s 3ms/step - loss: 6.3231 - accuracy: 0.9950\n"
          ]
        },
        {
          "output_type": "execute_result",
          "data": {
            "text/plain": [
              "<keras.callbacks.History at 0x7f95a9fb7550>"
            ]
          },
          "metadata": {},
          "execution_count": 25
        }
      ]
    },
    {
      "cell_type": "code",
      "source": [
        "for layer in model_B_on_A.layers[:-1]:\n",
        " layer.trainable = True"
      ],
      "metadata": {
        "id": "nizkrlWb97xh"
      },
      "execution_count": null,
      "outputs": []
    },
    {
      "cell_type": "code",
      "source": [
        "optimizer = optimizers.SGD(lr=1e-4)\n",
        "model_B_on_A.compile(loss=\"binary_crossentropy\", optimizer=optimizer,metrics=[\"accuracy\"])\n",
        "model_B_on_A.fit(X_train_B, y_train_B, epochs=16)"
      ],
      "metadata": {
        "colab": {
          "base_uri": "https://localhost:8080/"
        },
        "id": "6CFOyZiI-BSi",
        "outputId": "c0ae2983-4258-4049-effe-a4ada2c62eae"
      },
      "execution_count": null,
      "outputs": [
        {
          "output_type": "stream",
          "name": "stdout",
          "text": [
            "Epoch 1/16\n",
            "375/375 [==============================] - 2s 4ms/step - loss: 6.7856 - accuracy: 0.9958\n",
            "Epoch 2/16\n",
            "375/375 [==============================] - 1s 4ms/step - loss: 2.0427 - accuracy: 0.9984\n",
            "Epoch 3/16\n",
            "375/375 [==============================] - 1s 3ms/step - loss: 1.3355 - accuracy: 0.9982\n",
            "Epoch 4/16\n",
            "375/375 [==============================] - 1s 3ms/step - loss: 0.7696 - accuracy: 0.9988\n",
            "Epoch 5/16\n",
            "375/375 [==============================] - 1s 3ms/step - loss: 0.0748 - accuracy: 0.9998\n",
            "Epoch 6/16\n",
            "375/375 [==============================] - 1s 3ms/step - loss: 0.0779 - accuracy: 0.9997\n",
            "Epoch 7/16\n",
            "375/375 [==============================] - 1s 3ms/step - loss: 0.3543 - accuracy: 0.9994\n",
            "Epoch 8/16\n",
            "375/375 [==============================] - 1s 3ms/step - loss: 0.1093 - accuracy: 0.9998\n",
            "Epoch 9/16\n",
            "375/375 [==============================] - 1s 3ms/step - loss: 1.8267e-07 - accuracy: 1.0000\n",
            "Epoch 10/16\n",
            "375/375 [==============================] - 1s 3ms/step - loss: 2.1413e-08 - accuracy: 1.0000\n",
            "Epoch 11/16\n",
            "375/375 [==============================] - 1s 3ms/step - loss: 1.5218e-08 - accuracy: 1.0000\n",
            "Epoch 12/16\n",
            "375/375 [==============================] - 2s 5ms/step - loss: 1.1942e-08 - accuracy: 1.0000\n",
            "Epoch 13/16\n",
            "375/375 [==============================] - 1s 4ms/step - loss: 9.8740e-09 - accuracy: 1.0000\n",
            "Epoch 14/16\n",
            "375/375 [==============================] - 1s 3ms/step - loss: 8.4545e-09 - accuracy: 1.0000\n",
            "Epoch 15/16\n",
            "375/375 [==============================] - 1s 3ms/step - loss: 7.3900e-09 - accuracy: 1.0000\n",
            "Epoch 16/16\n",
            "375/375 [==============================] - 1s 3ms/step - loss: 6.5718e-09 - accuracy: 1.0000\n"
          ]
        },
        {
          "output_type": "execute_result",
          "data": {
            "text/plain": [
              "<keras.callbacks.History at 0x7f95abd2fa60>"
            ]
          },
          "metadata": {},
          "execution_count": 28
        }
      ]
    },
    {
      "cell_type": "code",
      "source": [
        "loss, accuracy = model_B_on_A.evaluate(X_test_B, y_test_B)"
      ],
      "metadata": {
        "colab": {
          "base_uri": "https://localhost:8080/"
        },
        "id": "iESBUICI9rs3",
        "outputId": "b046d4b6-16c0-4601-e5a8-4073c3dd53c6"
      },
      "execution_count": null,
      "outputs": [
        {
          "output_type": "stream",
          "name": "stdout",
          "text": [
            "63/63 [==============================] - 0s 2ms/step - loss: 10.7250 - accuracy: 0.9975\n"
          ]
        }
      ]
    }
  ]
}
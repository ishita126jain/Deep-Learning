{
  "nbformat": 4,
  "nbformat_minor": 0,
  "metadata": {
    "colab": {
      "provenance": []
    },
    "kernelspec": {
      "name": "python3",
      "display_name": "Python 3"
    },
    "language_info": {
      "name": "python"
    }
  },
  "cells": [
    {
      "cell_type": "code",
      "execution_count": null,
      "metadata": {
        "id": "VPLLHVKiwN0S"
      },
      "outputs": [],
      "source": [
        "import tensorflow as tf\n",
        "from tensorflow import keras"
      ]
    },
    {
      "cell_type": "code",
      "source": [
        "#Loading a fashion MNIST dataset\n",
        "fashion_mnist = tf.keras.datasets.fashion_mnist"
      ],
      "metadata": {
        "id": "1qiDvk_dwX6T"
      },
      "execution_count": null,
      "outputs": []
    },
    {
      "cell_type": "code",
      "source": [
        "(x_train_full, y_train_full), (x_test, y_test) = fashion_mnist.load_data()"
      ],
      "metadata": {
        "id": "Nd33SP5Nwume"
      },
      "execution_count": null,
      "outputs": []
    },
    {
      "cell_type": "code",
      "source": [
        "x_train_full.shape"
      ],
      "metadata": {
        "colab": {
          "base_uri": "https://localhost:8080/"
        },
        "id": "ub3seJ_gx5Lo",
        "outputId": "49106181-605d-4a5b-b33c-216f9d918d00"
      },
      "execution_count": null,
      "outputs": [
        {
          "output_type": "execute_result",
          "data": {
            "text/plain": [
              "(60000, 28, 28)"
            ]
          },
          "metadata": {},
          "execution_count": 45
        }
      ]
    },
    {
      "cell_type": "code",
      "source": [
        "x_train_full.dtype"
      ],
      "metadata": {
        "colab": {
          "base_uri": "https://localhost:8080/"
        },
        "id": "L1_fg6Ixx8d3",
        "outputId": "6c5c3cee-abfe-4329-a2c0-22a17d6db97e"
      },
      "execution_count": null,
      "outputs": [
        {
          "output_type": "execute_result",
          "data": {
            "text/plain": [
              "dtype('uint8')"
            ]
          },
          "metadata": {},
          "execution_count": 46
        }
      ]
    },
    {
      "cell_type": "code",
      "source": [
        "x_train_full[0].shape"
      ],
      "metadata": {
        "colab": {
          "base_uri": "https://localhost:8080/"
        },
        "id": "5hRAVDW_y1ay",
        "outputId": "c399cc77-0874-4565-def7-36e6f8934006"
      },
      "execution_count": null,
      "outputs": [
        {
          "output_type": "execute_result",
          "data": {
            "text/plain": [
              "(28, 28)"
            ]
          },
          "metadata": {},
          "execution_count": 47
        }
      ]
    },
    {
      "cell_type": "code",
      "source": [
        "x_train_full[0]"
      ],
      "metadata": {
        "colab": {
          "base_uri": "https://localhost:8080/"
        },
        "id": "BXPZKcj0zNEP",
        "outputId": "9fb81fa1-59fe-481c-b8ec-b932a55155b7"
      },
      "execution_count": null,
      "outputs": [
        {
          "output_type": "execute_result",
          "data": {
            "text/plain": [
              "array([[  0,   0,   0,   0,   0,   0,   0,   0,   0,   0,   0,   0,   0,\n",
              "          0,   0,   0,   0,   0,   0,   0,   0,   0,   0,   0,   0,   0,\n",
              "          0,   0],\n",
              "       [  0,   0,   0,   0,   0,   0,   0,   0,   0,   0,   0,   0,   0,\n",
              "          0,   0,   0,   0,   0,   0,   0,   0,   0,   0,   0,   0,   0,\n",
              "          0,   0],\n",
              "       [  0,   0,   0,   0,   0,   0,   0,   0,   0,   0,   0,   0,   0,\n",
              "          0,   0,   0,   0,   0,   0,   0,   0,   0,   0,   0,   0,   0,\n",
              "          0,   0],\n",
              "       [  0,   0,   0,   0,   0,   0,   0,   0,   0,   0,   0,   0,   1,\n",
              "          0,   0,  13,  73,   0,   0,   1,   4,   0,   0,   0,   0,   1,\n",
              "          1,   0],\n",
              "       [  0,   0,   0,   0,   0,   0,   0,   0,   0,   0,   0,   0,   3,\n",
              "          0,  36, 136, 127,  62,  54,   0,   0,   0,   1,   3,   4,   0,\n",
              "          0,   3],\n",
              "       [  0,   0,   0,   0,   0,   0,   0,   0,   0,   0,   0,   0,   6,\n",
              "          0, 102, 204, 176, 134, 144, 123,  23,   0,   0,   0,   0,  12,\n",
              "         10,   0],\n",
              "       [  0,   0,   0,   0,   0,   0,   0,   0,   0,   0,   0,   0,   0,\n",
              "          0, 155, 236, 207, 178, 107, 156, 161, 109,  64,  23,  77, 130,\n",
              "         72,  15],\n",
              "       [  0,   0,   0,   0,   0,   0,   0,   0,   0,   0,   0,   1,   0,\n",
              "         69, 207, 223, 218, 216, 216, 163, 127, 121, 122, 146, 141,  88,\n",
              "        172,  66],\n",
              "       [  0,   0,   0,   0,   0,   0,   0,   0,   0,   1,   1,   1,   0,\n",
              "        200, 232, 232, 233, 229, 223, 223, 215, 213, 164, 127, 123, 196,\n",
              "        229,   0],\n",
              "       [  0,   0,   0,   0,   0,   0,   0,   0,   0,   0,   0,   0,   0,\n",
              "        183, 225, 216, 223, 228, 235, 227, 224, 222, 224, 221, 223, 245,\n",
              "        173,   0],\n",
              "       [  0,   0,   0,   0,   0,   0,   0,   0,   0,   0,   0,   0,   0,\n",
              "        193, 228, 218, 213, 198, 180, 212, 210, 211, 213, 223, 220, 243,\n",
              "        202,   0],\n",
              "       [  0,   0,   0,   0,   0,   0,   0,   0,   0,   1,   3,   0,  12,\n",
              "        219, 220, 212, 218, 192, 169, 227, 208, 218, 224, 212, 226, 197,\n",
              "        209,  52],\n",
              "       [  0,   0,   0,   0,   0,   0,   0,   0,   0,   0,   6,   0,  99,\n",
              "        244, 222, 220, 218, 203, 198, 221, 215, 213, 222, 220, 245, 119,\n",
              "        167,  56],\n",
              "       [  0,   0,   0,   0,   0,   0,   0,   0,   0,   4,   0,   0,  55,\n",
              "        236, 228, 230, 228, 240, 232, 213, 218, 223, 234, 217, 217, 209,\n",
              "         92,   0],\n",
              "       [  0,   0,   1,   4,   6,   7,   2,   0,   0,   0,   0,   0, 237,\n",
              "        226, 217, 223, 222, 219, 222, 221, 216, 223, 229, 215, 218, 255,\n",
              "         77,   0],\n",
              "       [  0,   3,   0,   0,   0,   0,   0,   0,   0,  62, 145, 204, 228,\n",
              "        207, 213, 221, 218, 208, 211, 218, 224, 223, 219, 215, 224, 244,\n",
              "        159,   0],\n",
              "       [  0,   0,   0,   0,  18,  44,  82, 107, 189, 228, 220, 222, 217,\n",
              "        226, 200, 205, 211, 230, 224, 234, 176, 188, 250, 248, 233, 238,\n",
              "        215,   0],\n",
              "       [  0,  57, 187, 208, 224, 221, 224, 208, 204, 214, 208, 209, 200,\n",
              "        159, 245, 193, 206, 223, 255, 255, 221, 234, 221, 211, 220, 232,\n",
              "        246,   0],\n",
              "       [  3, 202, 228, 224, 221, 211, 211, 214, 205, 205, 205, 220, 240,\n",
              "         80, 150, 255, 229, 221, 188, 154, 191, 210, 204, 209, 222, 228,\n",
              "        225,   0],\n",
              "       [ 98, 233, 198, 210, 222, 229, 229, 234, 249, 220, 194, 215, 217,\n",
              "        241,  65,  73, 106, 117, 168, 219, 221, 215, 217, 223, 223, 224,\n",
              "        229,  29],\n",
              "       [ 75, 204, 212, 204, 193, 205, 211, 225, 216, 185, 197, 206, 198,\n",
              "        213, 240, 195, 227, 245, 239, 223, 218, 212, 209, 222, 220, 221,\n",
              "        230,  67],\n",
              "       [ 48, 203, 183, 194, 213, 197, 185, 190, 194, 192, 202, 214, 219,\n",
              "        221, 220, 236, 225, 216, 199, 206, 186, 181, 177, 172, 181, 205,\n",
              "        206, 115],\n",
              "       [  0, 122, 219, 193, 179, 171, 183, 196, 204, 210, 213, 207, 211,\n",
              "        210, 200, 196, 194, 191, 195, 191, 198, 192, 176, 156, 167, 177,\n",
              "        210,  92],\n",
              "       [  0,   0,  74, 189, 212, 191, 175, 172, 175, 181, 185, 188, 189,\n",
              "        188, 193, 198, 204, 209, 210, 210, 211, 188, 188, 194, 192, 216,\n",
              "        170,   0],\n",
              "       [  2,   0,   0,   0,  66, 200, 222, 237, 239, 242, 246, 243, 244,\n",
              "        221, 220, 193, 191, 179, 182, 182, 181, 176, 166, 168,  99,  58,\n",
              "          0,   0],\n",
              "       [  0,   0,   0,   0,   0,   0,   0,  40,  61,  44,  72,  41,  35,\n",
              "          0,   0,   0,   0,   0,   0,   0,   0,   0,   0,   0,   0,   0,\n",
              "          0,   0],\n",
              "       [  0,   0,   0,   0,   0,   0,   0,   0,   0,   0,   0,   0,   0,\n",
              "          0,   0,   0,   0,   0,   0,   0,   0,   0,   0,   0,   0,   0,\n",
              "          0,   0],\n",
              "       [  0,   0,   0,   0,   0,   0,   0,   0,   0,   0,   0,   0,   0,\n",
              "          0,   0,   0,   0,   0,   0,   0,   0,   0,   0,   0,   0,   0,\n",
              "          0,   0]], dtype=uint8)"
            ]
          },
          "metadata": {},
          "execution_count": 48
        }
      ]
    },
    {
      "cell_type": "code",
      "source": [
        "#Our dataset is already divided into training and testing dataset so we divide train dataset further as a validate set.\n",
        "#Also convert intensities of pixel into 0-1 range by dividing them with 255.0 so that dtype also change to float.\n",
        "\n",
        "x_valid, x_train = x_train_full[:5000]/255.0 , x_train_full[5000:]/255.0\n",
        "y_valid, y_train = y_train_full[:5000] , y_train_full[5000:]"
      ],
      "metadata": {
        "id": "QGwSKFz9yHjd"
      },
      "execution_count": null,
      "outputs": []
    },
    {
      "cell_type": "code",
      "source": [
        "class_names = [\"T-shirt/top\", \"Trouser\", \"Pullover\", \"Dress\", \"Coat\", \"Sandal\", \"Shirt\", \"Sneaker\",\"Bag\",\"Ankle boot\"]"
      ],
      "metadata": {
        "id": "zgopn87Hz9sF"
      },
      "execution_count": null,
      "outputs": []
    },
    {
      "cell_type": "code",
      "source": [
        "class_names[y_train[1]]"
      ],
      "metadata": {
        "colab": {
          "base_uri": "https://localhost:8080/",
          "height": 36
        },
        "id": "uAvKmRsJ017H",
        "outputId": "ed889fad-3779-4edc-81e7-c47d5ea048ee"
      },
      "execution_count": null,
      "outputs": [
        {
          "output_type": "execute_result",
          "data": {
            "text/plain": [
              "'T-shirt/top'"
            ],
            "application/vnd.google.colaboratory.intrinsic+json": {
              "type": "string"
            }
          },
          "metadata": {},
          "execution_count": 51
        }
      ]
    },
    {
      "cell_type": "code",
      "source": [
        "#Creating sequencial model\n",
        "from keras.models import Sequential\n",
        "from keras.layers import Dense, Flatten"
      ],
      "metadata": {
        "id": "J9yQoGM_VCqJ"
      },
      "execution_count": null,
      "outputs": []
    },
    {
      "cell_type": "code",
      "source": [
        "model = Sequential()\n",
        "model.add(Flatten(input_shape=[28,28]))\n",
        "model.add(Dense(300, activation = \"relu\"))\n",
        "model.add(Dense(100, activation = \"relu\"))\n",
        "model.add(Dense(10, activation = \"softmax\"))"
      ],
      "metadata": {
        "id": "t0_XuC-5VnyU"
      },
      "execution_count": null,
      "outputs": []
    },
    {
      "cell_type": "code",
      "source": [
        "model.summary()"
      ],
      "metadata": {
        "colab": {
          "base_uri": "https://localhost:8080/"
        },
        "id": "gBFlcy5IW88e",
        "outputId": "f8944855-cb6f-4adb-9855-6ec8ba819d12"
      },
      "execution_count": null,
      "outputs": [
        {
          "output_type": "stream",
          "name": "stdout",
          "text": [
            "Model: \"sequential_6\"\n",
            "_________________________________________________________________\n",
            " Layer (type)                Output Shape              Param #   \n",
            "=================================================================\n",
            " flatten_4 (Flatten)         (None, 784)               0         \n",
            "                                                                 \n",
            " dense_12 (Dense)            (None, 300)               235500    \n",
            "                                                                 \n",
            " dense_13 (Dense)            (None, 100)               30100     \n",
            "                                                                 \n",
            " dense_14 (Dense)            (None, 10)                1010      \n",
            "                                                                 \n",
            "=================================================================\n",
            "Total params: 266,610\n",
            "Trainable params: 266,610\n",
            "Non-trainable params: 0\n",
            "_________________________________________________________________\n"
          ]
        }
      ]
    },
    {
      "cell_type": "code",
      "source": [
        "model.layers"
      ],
      "metadata": {
        "colab": {
          "base_uri": "https://localhost:8080/"
        },
        "id": "oUEZl8PYd9J-",
        "outputId": "cf0bb3be-c326-4207-b0fa-37e26a87a7da"
      },
      "execution_count": null,
      "outputs": [
        {
          "output_type": "execute_result",
          "data": {
            "text/plain": [
              "[<keras.layers.reshaping.flatten.Flatten at 0x7fc3b05aeb50>,\n",
              " <keras.layers.core.dense.Dense at 0x7fc3b05aed90>,\n",
              " <keras.layers.core.dense.Dense at 0x7fc3b15b1a60>,\n",
              " <keras.layers.core.dense.Dense at 0x7fc3b056da00>]"
            ]
          },
          "metadata": {},
          "execution_count": 68
        }
      ]
    },
    {
      "cell_type": "code",
      "source": [
        "model.layers[1].name"
      ],
      "metadata": {
        "colab": {
          "base_uri": "https://localhost:8080/",
          "height": 36
        },
        "id": "CeyhqDHieBd_",
        "outputId": "8da0544d-44f7-490e-f90c-efde6e070eca"
      },
      "execution_count": null,
      "outputs": [
        {
          "output_type": "execute_result",
          "data": {
            "text/plain": [
              "'dense_12'"
            ],
            "application/vnd.google.colaboratory.intrinsic+json": {
              "type": "string"
            }
          },
          "metadata": {},
          "execution_count": 69
        }
      ]
    },
    {
      "cell_type": "code",
      "source": [
        "model.get_layer('dense_12').name"
      ],
      "metadata": {
        "colab": {
          "base_uri": "https://localhost:8080/",
          "height": 36
        },
        "id": "-zRW0ykCeNoY",
        "outputId": "9cf8d9ff-722d-454d-baea-e896aa296270"
      },
      "execution_count": null,
      "outputs": [
        {
          "output_type": "execute_result",
          "data": {
            "text/plain": [
              "'dense_12'"
            ],
            "application/vnd.google.colaboratory.intrinsic+json": {
              "type": "string"
            }
          },
          "metadata": {},
          "execution_count": 71
        }
      ]
    },
    {
      "cell_type": "code",
      "source": [
        "weights, biases = model.layers[1].get_weights()\n",
        "print(weights)\n",
        "print(\"\\n\")\n",
        "print(biases)"
      ],
      "metadata": {
        "colab": {
          "base_uri": "https://localhost:8080/"
        },
        "id": "wF61iQvheoY0",
        "outputId": "ff430aa9-a97d-4985-a08a-78bc3980620a"
      },
      "execution_count": null,
      "outputs": [
        {
          "output_type": "stream",
          "name": "stdout",
          "text": [
            "[[-0.02507088  0.01054478 -0.01254238 ... -0.03561898  0.02662572\n",
            "  -0.01405814]\n",
            " [-0.01598812 -0.04405341  0.06672415 ...  0.02771416 -0.07424068\n",
            "   0.00618991]\n",
            " [-0.00395412 -0.00574566 -0.02330059 ... -0.05347693 -0.00442496\n",
            "   0.05194138]\n",
            " ...\n",
            " [ 0.00399983  0.02578701  0.04907268 ...  0.04694302  0.03946257\n",
            "   0.02297544]\n",
            " [-0.07035135  0.00399244  0.00842667 ...  0.05504663  0.02670594\n",
            "  -0.04181311]\n",
            " [-0.00836418 -0.00943299 -0.05897918 ...  0.06742005 -0.05652096\n",
            "   0.05581442]]\n",
            "\n",
            "\n",
            "[0. 0. 0. 0. 0. 0. 0. 0. 0. 0. 0. 0. 0. 0. 0. 0. 0. 0. 0. 0. 0. 0. 0. 0.\n",
            " 0. 0. 0. 0. 0. 0. 0. 0. 0. 0. 0. 0. 0. 0. 0. 0. 0. 0. 0. 0. 0. 0. 0. 0.\n",
            " 0. 0. 0. 0. 0. 0. 0. 0. 0. 0. 0. 0. 0. 0. 0. 0. 0. 0. 0. 0. 0. 0. 0. 0.\n",
            " 0. 0. 0. 0. 0. 0. 0. 0. 0. 0. 0. 0. 0. 0. 0. 0. 0. 0. 0. 0. 0. 0. 0. 0.\n",
            " 0. 0. 0. 0. 0. 0. 0. 0. 0. 0. 0. 0. 0. 0. 0. 0. 0. 0. 0. 0. 0. 0. 0. 0.\n",
            " 0. 0. 0. 0. 0. 0. 0. 0. 0. 0. 0. 0. 0. 0. 0. 0. 0. 0. 0. 0. 0. 0. 0. 0.\n",
            " 0. 0. 0. 0. 0. 0. 0. 0. 0. 0. 0. 0. 0. 0. 0. 0. 0. 0. 0. 0. 0. 0. 0. 0.\n",
            " 0. 0. 0. 0. 0. 0. 0. 0. 0. 0. 0. 0. 0. 0. 0. 0. 0. 0. 0. 0. 0. 0. 0. 0.\n",
            " 0. 0. 0. 0. 0. 0. 0. 0. 0. 0. 0. 0. 0. 0. 0. 0. 0. 0. 0. 0. 0. 0. 0. 0.\n",
            " 0. 0. 0. 0. 0. 0. 0. 0. 0. 0. 0. 0. 0. 0. 0. 0. 0. 0. 0. 0. 0. 0. 0. 0.\n",
            " 0. 0. 0. 0. 0. 0. 0. 0. 0. 0. 0. 0. 0. 0. 0. 0. 0. 0. 0. 0. 0. 0. 0. 0.\n",
            " 0. 0. 0. 0. 0. 0. 0. 0. 0. 0. 0. 0. 0. 0. 0. 0. 0. 0. 0. 0. 0. 0. 0. 0.\n",
            " 0. 0. 0. 0. 0. 0. 0. 0. 0. 0. 0. 0.]\n"
          ]
        }
      ]
    },
    {
      "cell_type": "code",
      "source": [
        "weights.shape"
      ],
      "metadata": {
        "colab": {
          "base_uri": "https://localhost:8080/"
        },
        "id": "mTpbvFxCfwi1",
        "outputId": "90f6c329-c2f6-4658-e603-2fee54182d58"
      },
      "execution_count": null,
      "outputs": [
        {
          "output_type": "execute_result",
          "data": {
            "text/plain": [
              "(784, 300)"
            ]
          },
          "metadata": {},
          "execution_count": 73
        }
      ]
    },
    {
      "cell_type": "code",
      "source": [
        "biases.shape"
      ],
      "metadata": {
        "colab": {
          "base_uri": "https://localhost:8080/"
        },
        "id": "H_LSlqM7fy9N",
        "outputId": "ca12de83-8ccd-4769-be64-46a317e3852a"
      },
      "execution_count": null,
      "outputs": [
        {
          "output_type": "execute_result",
          "data": {
            "text/plain": [
              "(300,)"
            ]
          },
          "metadata": {},
          "execution_count": 74
        }
      ]
    },
    {
      "cell_type": "code",
      "source": [
        "model.compile(loss = \"sparse_categorical_crossentropy\", optimizer=\"sgd\",metrics=[\"accuracy\"])"
      ],
      "metadata": {
        "id": "rAqotVRof2OM"
      },
      "execution_count": null,
      "outputs": []
    },
    {
      "cell_type": "code",
      "source": [
        "history= model.fit(x_train, y_train, epochs = 30, validation_data=(x_valid, y_valid))"
      ],
      "metadata": {
        "colab": {
          "base_uri": "https://localhost:8080/"
        },
        "id": "uwVJNyutnBmN",
        "outputId": "767cb292-c33d-498a-ff8b-8f47e3ac00aa"
      },
      "execution_count": null,
      "outputs": [
        {
          "output_type": "stream",
          "name": "stdout",
          "text": [
            "Epoch 1/30\n",
            "1719/1719 [==============================] - 10s 5ms/step - loss: 0.7160 - accuracy: 0.7661 - val_loss: 0.5049 - val_accuracy: 0.8316\n",
            "Epoch 2/30\n",
            "1719/1719 [==============================] - 11s 7ms/step - loss: 0.4853 - accuracy: 0.8301 - val_loss: 0.5553 - val_accuracy: 0.7986\n",
            "Epoch 3/30\n",
            "1719/1719 [==============================] - 9s 5ms/step - loss: 0.4419 - accuracy: 0.8439 - val_loss: 0.4237 - val_accuracy: 0.8562\n",
            "Epoch 4/30\n",
            "1719/1719 [==============================] - 6s 3ms/step - loss: 0.4150 - accuracy: 0.8546 - val_loss: 0.4064 - val_accuracy: 0.8626\n",
            "Epoch 5/30\n",
            "1719/1719 [==============================] - 7s 4ms/step - loss: 0.3971 - accuracy: 0.8603 - val_loss: 0.3839 - val_accuracy: 0.8700\n",
            "Epoch 6/30\n",
            "1719/1719 [==============================] - 6s 4ms/step - loss: 0.3809 - accuracy: 0.8676 - val_loss: 0.3971 - val_accuracy: 0.8588\n",
            "Epoch 7/30\n",
            "1719/1719 [==============================] - 6s 4ms/step - loss: 0.3689 - accuracy: 0.8700 - val_loss: 0.3929 - val_accuracy: 0.8608\n",
            "Epoch 8/30\n",
            "1719/1719 [==============================] - 7s 4ms/step - loss: 0.3575 - accuracy: 0.8725 - val_loss: 0.3517 - val_accuracy: 0.8784\n",
            "Epoch 9/30\n",
            "1719/1719 [==============================] - 6s 4ms/step - loss: 0.3464 - accuracy: 0.8768 - val_loss: 0.3482 - val_accuracy: 0.8772\n",
            "Epoch 10/30\n",
            "1719/1719 [==============================] - 7s 4ms/step - loss: 0.3373 - accuracy: 0.8802 - val_loss: 0.3537 - val_accuracy: 0.8752\n",
            "Epoch 11/30\n",
            "1719/1719 [==============================] - 6s 4ms/step - loss: 0.3296 - accuracy: 0.8819 - val_loss: 0.3640 - val_accuracy: 0.8714\n",
            "Epoch 12/30\n",
            "1719/1719 [==============================] - 10s 6ms/step - loss: 0.3217 - accuracy: 0.8857 - val_loss: 0.3422 - val_accuracy: 0.8748\n",
            "Epoch 13/30\n",
            "1719/1719 [==============================] - 8s 5ms/step - loss: 0.3143 - accuracy: 0.8876 - val_loss: 0.3507 - val_accuracy: 0.8768\n",
            "Epoch 14/30\n",
            "1719/1719 [==============================] - 10s 6ms/step - loss: 0.3074 - accuracy: 0.8901 - val_loss: 0.3222 - val_accuracy: 0.8866\n",
            "Epoch 15/30\n",
            "1719/1719 [==============================] - 6s 4ms/step - loss: 0.3016 - accuracy: 0.8921 - val_loss: 0.3326 - val_accuracy: 0.8830\n",
            "Epoch 16/30\n",
            "1719/1719 [==============================] - 6s 3ms/step - loss: 0.2945 - accuracy: 0.8935 - val_loss: 0.3228 - val_accuracy: 0.8850\n",
            "Epoch 17/30\n",
            "1719/1719 [==============================] - 10s 6ms/step - loss: 0.2894 - accuracy: 0.8963 - val_loss: 0.3285 - val_accuracy: 0.8800\n",
            "Epoch 18/30\n",
            "1719/1719 [==============================] - 11s 7ms/step - loss: 0.2832 - accuracy: 0.8979 - val_loss: 0.3104 - val_accuracy: 0.8914\n",
            "Epoch 19/30\n",
            "1719/1719 [==============================] - 13s 8ms/step - loss: 0.2774 - accuracy: 0.9002 - val_loss: 0.3219 - val_accuracy: 0.8838\n",
            "Epoch 20/30\n",
            "1719/1719 [==============================] - 9s 5ms/step - loss: 0.2718 - accuracy: 0.9022 - val_loss: 0.3051 - val_accuracy: 0.8904\n",
            "Epoch 21/30\n",
            "1719/1719 [==============================] - 6s 4ms/step - loss: 0.2675 - accuracy: 0.9030 - val_loss: 0.3270 - val_accuracy: 0.8854\n",
            "Epoch 22/30\n",
            "1719/1719 [==============================] - 8s 5ms/step - loss: 0.2629 - accuracy: 0.9048 - val_loss: 0.3070 - val_accuracy: 0.8900\n",
            "Epoch 23/30\n",
            "1719/1719 [==============================] - 8s 5ms/step - loss: 0.2592 - accuracy: 0.9061 - val_loss: 0.3117 - val_accuracy: 0.8866\n",
            "Epoch 24/30\n",
            "1719/1719 [==============================] - 8s 4ms/step - loss: 0.2532 - accuracy: 0.9088 - val_loss: 0.3015 - val_accuracy: 0.8948\n",
            "Epoch 25/30\n",
            "1719/1719 [==============================] - 9s 5ms/step - loss: 0.2495 - accuracy: 0.9101 - val_loss: 0.3022 - val_accuracy: 0.8914\n",
            "Epoch 26/30\n",
            "1719/1719 [==============================] - 6s 4ms/step - loss: 0.2441 - accuracy: 0.9116 - val_loss: 0.3119 - val_accuracy: 0.8880\n",
            "Epoch 27/30\n",
            "1719/1719 [==============================] - 5s 3ms/step - loss: 0.2409 - accuracy: 0.9130 - val_loss: 0.3007 - val_accuracy: 0.8950\n",
            "Epoch 28/30\n",
            "1719/1719 [==============================] - 6s 3ms/step - loss: 0.2365 - accuracy: 0.9142 - val_loss: 0.3032 - val_accuracy: 0.8936\n",
            "Epoch 29/30\n",
            "1719/1719 [==============================] - 5s 3ms/step - loss: 0.2324 - accuracy: 0.9145 - val_loss: 0.2985 - val_accuracy: 0.8950\n",
            "Epoch 30/30\n",
            "1719/1719 [==============================] - 7s 4ms/step - loss: 0.2287 - accuracy: 0.9176 - val_loss: 0.3069 - val_accuracy: 0.8942\n"
          ]
        }
      ]
    },
    {
      "cell_type": "code",
      "source": [
        "history.params"
      ],
      "metadata": {
        "colab": {
          "base_uri": "https://localhost:8080/"
        },
        "id": "x0NCRbg9nV4l",
        "outputId": "078dcc1f-118c-4474-b052-29a71862d52c"
      },
      "execution_count": null,
      "outputs": [
        {
          "output_type": "execute_result",
          "data": {
            "text/plain": [
              "{'verbose': 1, 'epochs': 30, 'steps': 1719}"
            ]
          },
          "metadata": {},
          "execution_count": 77
        }
      ]
    },
    {
      "cell_type": "code",
      "source": [
        "history.epoch"
      ],
      "metadata": {
        "colab": {
          "base_uri": "https://localhost:8080/"
        },
        "id": "riQwnjSKnbrF",
        "outputId": "b744a149-5c78-40d9-c8a1-6bb172f2d7b4"
      },
      "execution_count": null,
      "outputs": [
        {
          "output_type": "execute_result",
          "data": {
            "text/plain": [
              "[0,\n",
              " 1,\n",
              " 2,\n",
              " 3,\n",
              " 4,\n",
              " 5,\n",
              " 6,\n",
              " 7,\n",
              " 8,\n",
              " 9,\n",
              " 10,\n",
              " 11,\n",
              " 12,\n",
              " 13,\n",
              " 14,\n",
              " 15,\n",
              " 16,\n",
              " 17,\n",
              " 18,\n",
              " 19,\n",
              " 20,\n",
              " 21,\n",
              " 22,\n",
              " 23,\n",
              " 24,\n",
              " 25,\n",
              " 26,\n",
              " 27,\n",
              " 28,\n",
              " 29]"
            ]
          },
          "metadata": {},
          "execution_count": 78
        }
      ]
    },
    {
      "cell_type": "code",
      "source": [
        "history.history"
      ],
      "metadata": {
        "colab": {
          "base_uri": "https://localhost:8080/"
        },
        "id": "KmHjerVcnfxl",
        "outputId": "4e853e7b-45a1-4577-9a8c-68b9f4ed9ed7"
      },
      "execution_count": null,
      "outputs": [
        {
          "output_type": "execute_result",
          "data": {
            "text/plain": [
              "{'loss': [0.716020941734314,\n",
              "  0.4852764308452606,\n",
              "  0.44192877411842346,\n",
              "  0.41495567560195923,\n",
              "  0.3971163034439087,\n",
              "  0.38086381554603577,\n",
              "  0.36885035037994385,\n",
              "  0.35751068592071533,\n",
              "  0.34638074040412903,\n",
              "  0.3373011350631714,\n",
              "  0.3296237885951996,\n",
              "  0.32167211174964905,\n",
              "  0.3143370747566223,\n",
              "  0.30736079812049866,\n",
              "  0.3016066551208496,\n",
              "  0.2944769561290741,\n",
              "  0.28940892219543457,\n",
              "  0.2831854522228241,\n",
              "  0.27742552757263184,\n",
              "  0.2718433737754822,\n",
              "  0.26754194498062134,\n",
              "  0.2629151940345764,\n",
              "  0.25921696424484253,\n",
              "  0.2531913220882416,\n",
              "  0.24947242438793182,\n",
              "  0.24414128065109253,\n",
              "  0.2409302145242691,\n",
              "  0.23646995425224304,\n",
              "  0.2324143946170807,\n",
              "  0.2287253737449646],\n",
              " 'accuracy': [0.7660545706748962,\n",
              "  0.8301454782485962,\n",
              "  0.843890905380249,\n",
              "  0.8545818328857422,\n",
              "  0.8602908849716187,\n",
              "  0.8676363825798035,\n",
              "  0.8700181841850281,\n",
              "  0.8724545240402222,\n",
              "  0.876800000667572,\n",
              "  0.8801636099815369,\n",
              "  0.8819090723991394,\n",
              "  0.8856727480888367,\n",
              "  0.8876000046730042,\n",
              "  0.8900908827781677,\n",
              "  0.8921090960502625,\n",
              "  0.8934545516967773,\n",
              "  0.8962545394897461,\n",
              "  0.8979272842407227,\n",
              "  0.9001818299293518,\n",
              "  0.9021636247634888,\n",
              "  0.9029818177223206,\n",
              "  0.9047818183898926,\n",
              "  0.906072735786438,\n",
              "  0.9088363647460938,\n",
              "  0.9100727438926697,\n",
              "  0.911581814289093,\n",
              "  0.9130363464355469,\n",
              "  0.9142181873321533,\n",
              "  0.914509117603302,\n",
              "  0.9176363348960876],\n",
              " 'val_loss': [0.504915177822113,\n",
              "  0.5553185939788818,\n",
              "  0.42367109656333923,\n",
              "  0.4064096212387085,\n",
              "  0.3839360475540161,\n",
              "  0.3971465528011322,\n",
              "  0.39294710755348206,\n",
              "  0.35173356533050537,\n",
              "  0.3481765389442444,\n",
              "  0.35371723771095276,\n",
              "  0.3639543354511261,\n",
              "  0.3421543836593628,\n",
              "  0.3506616950035095,\n",
              "  0.32219505310058594,\n",
              "  0.3326243758201599,\n",
              "  0.32279908657073975,\n",
              "  0.3284757435321808,\n",
              "  0.31043902039527893,\n",
              "  0.3218907117843628,\n",
              "  0.3051047623157501,\n",
              "  0.32700487971305847,\n",
              "  0.3070201277732849,\n",
              "  0.3117488622665405,\n",
              "  0.30145663022994995,\n",
              "  0.30216601490974426,\n",
              "  0.3118993043899536,\n",
              "  0.30065152049064636,\n",
              "  0.3031638264656067,\n",
              "  0.29848989844322205,\n",
              "  0.30685773491859436],\n",
              " 'val_accuracy': [0.83160001039505,\n",
              "  0.7986000180244446,\n",
              "  0.8561999797821045,\n",
              "  0.8626000285148621,\n",
              "  0.8700000047683716,\n",
              "  0.8587999939918518,\n",
              "  0.86080002784729,\n",
              "  0.8784000277519226,\n",
              "  0.8772000074386597,\n",
              "  0.8751999735832214,\n",
              "  0.871399998664856,\n",
              "  0.8748000264167786,\n",
              "  0.876800000667572,\n",
              "  0.8866000175476074,\n",
              "  0.8830000162124634,\n",
              "  0.8849999904632568,\n",
              "  0.8799999952316284,\n",
              "  0.8913999795913696,\n",
              "  0.8838000297546387,\n",
              "  0.8903999924659729,\n",
              "  0.8853999972343445,\n",
              "  0.8899999856948853,\n",
              "  0.8866000175476074,\n",
              "  0.8948000073432922,\n",
              "  0.8913999795913696,\n",
              "  0.8880000114440918,\n",
              "  0.8949999809265137,\n",
              "  0.8935999870300293,\n",
              "  0.8949999809265137,\n",
              "  0.8942000269889832]}"
            ]
          },
          "metadata": {},
          "execution_count": 79
        }
      ]
    },
    {
      "cell_type": "code",
      "source": [
        "import numpy as np\n",
        "import pandas as pd \n",
        "import matplotlib.pyplot as plt\n",
        "pd.DataFrame(history.history).plot(figsize=(8,5))\n",
        "plt.grid(True)\n",
        "plt.gca().set_ylim(0,1) # set the vertical range to [0-1]\n",
        "plt.show()"
      ],
      "metadata": {
        "colab": {
          "base_uri": "https://localhost:8080/",
          "height": 324
        },
        "id": "83vL3BChnNNn",
        "outputId": "b94b60fa-9f9a-4e4f-923a-061b247e8105"
      },
      "execution_count": null,
      "outputs": [
        {
          "output_type": "display_data",
          "data": {
            "text/plain": [
              "<Figure size 576x360 with 1 Axes>"
            ],
            "image/png": "[encoded data removed]"
          },
          "metadata": {
            "needs_background": "light"
          }
        }
      ]
    },
    {
      "cell_type": "code",
      "source": [
        "model.evaluate(x_test, y_test)"
      ],
      "metadata": {
        "colab": {
          "base_uri": "https://localhost:8080/"
        },
        "id": "7SH5QvSPqzaF",
        "outputId": "76ac0cfa-7b93-4015-9e58-7e2cb37fad1e"
      },
      "execution_count": null,
      "outputs": [
        {
          "output_type": "stream",
          "name": "stdout",
          "text": [
            "313/313 [==============================] - 1s 2ms/step - loss: 76.7379 - accuracy: 0.8283\n"
          ]
        },
        {
          "output_type": "execute_result",
          "data": {
            "text/plain": [
              "[76.73794555664062, 0.8282999992370605]"
            ]
          },
          "metadata": {},
          "execution_count": 86
        }
      ]
    },
    {
      "cell_type": "code",
      "source": [
        "x_new = x_test[:3]\n",
        "y_proba = model.predict(x_new)\n",
        "y_proba"
      ],
      "metadata": {
        "colab": {
          "base_uri": "https://localhost:8080/"
        },
        "id": "3lljXWoSq61i",
        "outputId": "a5a3b4b0-14e8-4896-ee3e-c43771829274"
      },
      "execution_count": null,
      "outputs": [
        {
          "output_type": "stream",
          "name": "stdout",
          "text": [
            "1/1 [==============================] - 0s 31ms/step\n"
          ]
        },
        {
          "output_type": "execute_result",
          "data": {
            "text/plain": [
              "array([[0., 0., 0., 0., 0., 0., 0., 0., 0., 1.],\n",
              "       [0., 0., 1., 0., 0., 0., 0., 0., 0., 0.],\n",
              "       [0., 1., 0., 0., 0., 0., 0., 0., 0., 0.]], dtype=float32)"
            ]
          },
          "metadata": {},
          "execution_count": 91
        }
      ]
    },
    {
      "cell_type": "code",
      "source": [
        "y_pred = model.predict(x_new)\n",
        "classes = np.argmax(y_pred, axis=1)\n",
        "classes"
      ],
      "metadata": {
        "colab": {
          "base_uri": "https://localhost:8080/"
        },
        "id": "DlTrAKuosX9u",
        "outputId": "7f13acac-cf55-4d80-873b-417e4cfd1590"
      },
      "execution_count": null,
      "outputs": [
        {
          "output_type": "stream",
          "name": "stdout",
          "text": [
            "1/1 [==============================] - 0s 22ms/step\n"
          ]
        },
        {
          "output_type": "execute_result",
          "data": {
            "text/plain": [
              "array([9, 2, 1])"
            ]
          },
          "metadata": {},
          "execution_count": 95
        }
      ]
    },
    {
      "cell_type": "code",
      "source": [
        "np.array(class_names)[classes]"
      ],
      "metadata": {
        "colab": {
          "base_uri": "https://localhost:8080/"
        },
        "id": "5W6dPbI_tWms",
        "outputId": "c7a2cabb-d1be-4efb-871e-a880321e75eb"
      },
      "execution_count": null,
      "outputs": [
        {
          "output_type": "execute_result",
          "data": {
            "text/plain": [
              "array(['Ankle boot', 'Pullover', 'Trouser'], dtype='<U11')"
            ]
          },
          "metadata": {},
          "execution_count": 98
        }
      ]
    },
    {
      "cell_type": "code",
      "source": [
        "y_new = y_test[:3]\n",
        "y_new"
      ],
      "metadata": {
        "colab": {
          "base_uri": "https://localhost:8080/"
        },
        "id": "OrCEwMgft0ek",
        "outputId": "28184c79-4414-4bc8-b208-4454ba974766"
      },
      "execution_count": null,
      "outputs": [
        {
          "output_type": "execute_result",
          "data": {
            "text/plain": [
              "array([9, 2, 1], dtype=uint8)"
            ]
          },
          "metadata": {},
          "execution_count": 99
        }
      ]
    }
  ]
}
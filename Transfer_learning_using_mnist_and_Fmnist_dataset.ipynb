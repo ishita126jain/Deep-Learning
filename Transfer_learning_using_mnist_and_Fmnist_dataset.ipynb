{
  "cells": [
    {
      "cell_type": "code",
      "execution_count": 1,
      "metadata": {
        "id": "T8AGZGhpuYkC"
      },
      "outputs": [],
      "source": [
        "import numpy as np\n",
        "import pandas as pd\n",
        "from keras.datasets import mnist, fashion_mnist\n",
        "from keras.models import Sequential, load_model, clone_model\n",
        "from keras.layers import Dense"
      ]
    },
    {
      "cell_type": "code",
      "execution_count": 2,
      "metadata": {
        "id": "BQh21kH7xI_E"
      },
      "outputs": [],
      "source": [
        "(X_train_A, y_train_A), (X_test_A, y_test_A) = mnist.load_data()"
      ]
    },
    {
      "cell_type": "code",
      "execution_count": 3,
      "metadata": {
        "id": "7iPV5SuLup2v"
      },
      "outputs": [],
      "source": [
        "(X_train_B, y_train_B), (X_test_B, y_test_B) = fashion_mnist.load_data()"
      ]
    },
    {
      "cell_type": "code",
      "execution_count": 4,
      "metadata": {
        "id": "XaHIXjSJy7uM"
      },
      "outputs": [],
      "source": [
        "X_train_A = X_train_A.reshape((60000, 28 * 28))\n",
        "X_test_A = X_test_A.reshape((10000, 28 * 28))\n",
        "X_train_B = X_train_B.reshape((60000, 28 * 28))\n",
        "X_test_B = X_test_B.reshape((10000, 28 * 28))"
      ]
    },
    {
      "cell_type": "code",
      "source": [
        "X_train_A = X_train_A.astype('float32') / 255\n",
        "X_test_A = X_test_A.astype('float32') / 255\n",
        "X_train_B = X_train_B.astype('float32') / 255\n",
        "X_test_B = X_test_B.astype('float32') / 255"
      ],
      "metadata": {
        "id": "wn4pLZoVVVf0"
      },
      "execution_count": 5,
      "outputs": []
    },
    {
      "cell_type": "code",
      "source": [
        "model_A = Sequential()\n",
        "model_A.add(Dense(256, activation='relu', input_shape=(28 * 28,)))\n",
        "model_A.add(Dense(128, activation='relu'))\n",
        "model_A.add(Dense(64, activation='relu'))\n",
        "model_A.add(Dense(10, activation='softmax'))"
      ],
      "metadata": {
        "id": "dClmeSnXWEhT"
      },
      "execution_count": 6,
      "outputs": []
    },
    {
      "cell_type": "code",
      "source": [
        "model_A.compile(optimizer='rmsprop',loss='sparse_categorical_crossentropy',metrics=['accuracy'])\n",
        "model_A.fit(X_train_A, y_train_A, epochs=5, batch_size=64)"
      ],
      "metadata": {
        "colab": {
          "base_uri": "https://localhost:8080/"
        },
        "id": "eMXJ3eimW0rA",
        "outputId": "535b0834-8623-4b2a-805c-da04b7ceac1c"
      },
      "execution_count": 7,
      "outputs": [
        {
          "output_type": "stream",
          "name": "stdout",
          "text": [
            "Epoch 1/5\n",
            "938/938 [==============================] - 9s 8ms/step - loss: 0.2373 - accuracy: 0.9275\n",
            "Epoch 2/5\n",
            "938/938 [==============================] - 10s 11ms/step - loss: 0.0953 - accuracy: 0.9709\n",
            "Epoch 3/5\n",
            "938/938 [==============================] - 13s 14ms/step - loss: 0.0654 - accuracy: 0.9800\n",
            "Epoch 4/5\n",
            "938/938 [==============================] - 7s 7ms/step - loss: 0.0517 - accuracy: 0.9840\n",
            "Epoch 5/5\n",
            "938/938 [==============================] - 7s 7ms/step - loss: 0.0397 - accuracy: 0.9877\n"
          ]
        },
        {
          "output_type": "execute_result",
          "data": {
            "text/plain": [
              "<keras.callbacks.History at 0x7f4666d670a0>"
            ]
          },
          "metadata": {},
          "execution_count": 7
        }
      ]
    },
    {
      "cell_type": "code",
      "source": [
        "loss, accuracy = model_A.evaluate(X_test_A, y_test_A)"
      ],
      "metadata": {
        "colab": {
          "base_uri": "https://localhost:8080/"
        },
        "id": "1hgUr-8qam9D",
        "outputId": "2f8c622f-e445-41c3-ad6e-5b61b883c941"
      },
      "execution_count": 8,
      "outputs": [
        {
          "output_type": "stream",
          "name": "stdout",
          "text": [
            "313/313 [==============================] - 1s 3ms/step - loss: 0.0672 - accuracy: 0.9816\n"
          ]
        }
      ]
    },
    {
      "cell_type": "code",
      "source": [
        "model_B_on_A = Sequential(model_A.layers[:-1])"
      ],
      "metadata": {
        "id": "q_wuI2Z8Yugj"
      },
      "execution_count": 9,
      "outputs": []
    },
    {
      "cell_type": "code",
      "source": [
        "model_B_on_A.add(Dense(10, activation=\"softmax\"))"
      ],
      "metadata": {
        "id": "kuUEiymEZEKp"
      },
      "execution_count": 10,
      "outputs": []
    },
    {
      "cell_type": "code",
      "source": [
        "model_A_clone = clone_model(model_A)\n",
        "model_A_clone.set_weights(model_A.get_weights())"
      ],
      "metadata": {
        "id": "2bvE3TaLZVF6"
      },
      "execution_count": 11,
      "outputs": []
    },
    {
      "cell_type": "code",
      "source": [
        "for layer in model_B_on_A.layers[:-2]:\n",
        " layer.trainable = False"
      ],
      "metadata": {
        "id": "RQ20Z-DhZjpq"
      },
      "execution_count": 12,
      "outputs": []
    },
    {
      "cell_type": "code",
      "source": [
        "model_B_on_A.compile(optimizer='rmsprop',loss='sparse_categorical_crossentropy',metrics=['accuracy'])\n",
        "model_B_on_A.fit(X_train_B, y_train_B, epochs=5, batch_size=64)"
      ],
      "metadata": {
        "colab": {
          "base_uri": "https://localhost:8080/"
        },
        "id": "NVXc3wefZzKm",
        "outputId": "063dd0e4-9009-486a-e1af-d24600abc2fe"
      },
      "execution_count": 13,
      "outputs": [
        {
          "output_type": "stream",
          "name": "stdout",
          "text": [
            "Epoch 1/5\n",
            "938/938 [==============================] - 4s 3ms/step - loss: 0.7595 - accuracy: 0.7311\n",
            "Epoch 2/5\n",
            "938/938 [==============================] - 3s 4ms/step - loss: 0.5869 - accuracy: 0.7903\n",
            "Epoch 3/5\n",
            "938/938 [==============================] - 4s 5ms/step - loss: 0.5492 - accuracy: 0.8007\n",
            "Epoch 4/5\n",
            "938/938 [==============================] - 3s 4ms/step - loss: 0.5263 - accuracy: 0.8088\n",
            "Epoch 5/5\n",
            "938/938 [==============================] - 4s 4ms/step - loss: 0.5110 - accuracy: 0.8142\n"
          ]
        },
        {
          "output_type": "execute_result",
          "data": {
            "text/plain": [
              "<keras.callbacks.History at 0x7f4667579c10>"
            ]
          },
          "metadata": {},
          "execution_count": 13
        }
      ]
    },
    {
      "cell_type": "code",
      "source": [
        "loss, accuracy = model_B_on_A.evaluate(X_test_B, y_test_B)"
      ],
      "metadata": {
        "colab": {
          "base_uri": "https://localhost:8080/"
        },
        "id": "4GAxwbaCbGj1",
        "outputId": "a9335a88-28e2-43be-fd7e-c11aabe3391c"
      },
      "execution_count": 14,
      "outputs": [
        {
          "output_type": "stream",
          "name": "stdout",
          "text": [
            "313/313 [==============================] - 1s 3ms/step - loss: 0.5359 - accuracy: 0.8083\n"
          ]
        }
      ]
    }
  ],
  "metadata": {
    "colab": {
      "provenance": []
    },
    "kernelspec": {
      "display_name": "Python 3",
      "name": "python3"
    },
    "language_info": {
      "name": "python"
    }
  },
  "nbformat": 4,
  "nbformat_minor": 0
}
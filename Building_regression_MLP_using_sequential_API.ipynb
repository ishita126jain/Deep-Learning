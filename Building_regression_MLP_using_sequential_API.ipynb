{
  "nbformat": 4,
  "nbformat_minor": 0,
  "metadata": {
    "colab": {
      "provenance": []
    },
    "kernelspec": {
      "name": "python3",
      "display_name": "Python 3"
    },
    "language_info": {
      "name": "python"
    }
  },
  "cells": [
    {
      "cell_type": "code",
      "execution_count": null,
      "metadata": {
        "id": "wOSsRYpybCug"
      },
      "outputs": [],
      "source": [
        "from sklearn.datasets import fetch_california_housing\n",
        "from sklearn.model_selection import train_test_split\n",
        "from sklearn.preprocessing import StandardScaler\n",
        "from keras.models import Sequential\n",
        "from keras.layers import Dense\n",
        "from keras.metrics import RootMeanSquaredError\n",
        "import pandas as pd\n",
        "import matplotlib.pyplot as plt"
      ]
    },
    {
      "cell_type": "code",
      "source": [
        "housing = fetch_california_housing()"
      ],
      "metadata": {
        "id": "PngplZsJbIie"
      },
      "execution_count": null,
      "outputs": []
    },
    {
      "cell_type": "code",
      "source": [
        "X_train_full, X_test, y_train_full, y_test = train_test_split(housing.data, housing.target)"
      ],
      "metadata": {
        "id": "IfR7ONxxbMLj"
      },
      "execution_count": null,
      "outputs": []
    },
    {
      "cell_type": "code",
      "source": [
        "X_train, X_valid, y_train, y_valid = train_test_split(X_train_full, y_train_full)"
      ],
      "metadata": {
        "id": "Sa0kUJ8jbMvx"
      },
      "execution_count": null,
      "outputs": []
    },
    {
      "cell_type": "code",
      "source": [
        "X_train.shape"
      ],
      "metadata": {
        "colab": {
          "base_uri": "https://localhost:8080/"
        },
        "id": "8oz-Fba7bPca",
        "outputId": "3ae71972-17ff-4f48-8f84-34166b54e5bd"
      },
      "execution_count": null,
      "outputs": [
        {
          "output_type": "execute_result",
          "data": {
            "text/plain": [
              "(11610, 8)"
            ]
          },
          "metadata": {},
          "execution_count": 6
        }
      ]
    },
    {
      "cell_type": "code",
      "source": [
        "X_test.shape"
      ],
      "metadata": {
        "colab": {
          "base_uri": "https://localhost:8080/"
        },
        "id": "5GHo5CwBbRrb",
        "outputId": "678dafbf-49de-4bdd-f7c9-754a744bc2be"
      },
      "execution_count": null,
      "outputs": [
        {
          "output_type": "execute_result",
          "data": {
            "text/plain": [
              "(5160, 8)"
            ]
          },
          "metadata": {},
          "execution_count": 7
        }
      ]
    },
    {
      "cell_type": "code",
      "source": [
        "X_valid.shape"
      ],
      "metadata": {
        "colab": {
          "base_uri": "https://localhost:8080/"
        },
        "id": "PrIP2t7NbUCA",
        "outputId": "f77ac2f9-b5e2-4e7c-a34e-9b595242c793"
      },
      "execution_count": null,
      "outputs": [
        {
          "output_type": "execute_result",
          "data": {
            "text/plain": [
              "(3870, 8)"
            ]
          },
          "metadata": {},
          "execution_count": 8
        }
      ]
    },
    {
      "cell_type": "code",
      "source": [
        "y_train.shape"
      ],
      "metadata": {
        "colab": {
          "base_uri": "https://localhost:8080/"
        },
        "id": "2d5C0wM0bW7i",
        "outputId": "eca32455-bcbf-4f92-b036-823365aa023f"
      },
      "execution_count": null,
      "outputs": [
        {
          "output_type": "execute_result",
          "data": {
            "text/plain": [
              "(11610,)"
            ]
          },
          "metadata": {},
          "execution_count": 9
        }
      ]
    },
    {
      "cell_type": "code",
      "source": [
        "y_test.shape"
      ],
      "metadata": {
        "colab": {
          "base_uri": "https://localhost:8080/"
        },
        "id": "-vE1IGS5bZfb",
        "outputId": "0f2eef04-d337-4638-e780-7c17f7c364c0"
      },
      "execution_count": null,
      "outputs": [
        {
          "output_type": "execute_result",
          "data": {
            "text/plain": [
              "(5160,)"
            ]
          },
          "metadata": {},
          "execution_count": 11
        }
      ]
    },
    {
      "cell_type": "code",
      "source": [
        "y_valid.shape"
      ],
      "metadata": {
        "colab": {
          "base_uri": "https://localhost:8080/"
        },
        "id": "aQKTeJRlbcjX",
        "outputId": "25fbd46a-1da0-4cdf-af1d-b1439f546d8a"
      },
      "execution_count": null,
      "outputs": [
        {
          "output_type": "execute_result",
          "data": {
            "text/plain": [
              "(3870,)"
            ]
          },
          "metadata": {},
          "execution_count": 12
        }
      ]
    },
    {
      "cell_type": "code",
      "source": [
        "scaler = StandardScaler()\n",
        "X_train = scaler.fit_transform(X_train)\n",
        "X_test = scaler.transform(X_test)\n",
        "X_valid = scaler.transform(X_valid)"
      ],
      "metadata": {
        "id": "GLoTW-pjbhRz"
      },
      "execution_count": null,
      "outputs": []
    },
    {
      "cell_type": "code",
      "source": [
        "X_train.shape[1:]"
      ],
      "metadata": {
        "colab": {
          "base_uri": "https://localhost:8080/"
        },
        "id": "MUtwIkqobj9G",
        "outputId": "3ebb4781-9975-4002-907b-6ea0877c14ac"
      },
      "execution_count": null,
      "outputs": [
        {
          "output_type": "execute_result",
          "data": {
            "text/plain": [
              "(8,)"
            ]
          },
          "metadata": {},
          "execution_count": 14
        }
      ]
    },
    {
      "cell_type": "code",
      "source": [
        "model = Sequential([\n",
        "    Dense(30, activation='relu', input_shape=X_train.shape[1:]),\n",
        "    Dense(1)\n",
        "])\n",
        "model.compile(loss='mean_squared_error', optimizer='sgd', metrics=[RootMeanSquaredError(), 'mean_absolute_percentage_error'])"
      ],
      "metadata": {
        "id": "2dQkgPhKbnMM"
      },
      "execution_count": null,
      "outputs": []
    },
    {
      "cell_type": "code",
      "source": [
        "history = model.fit(X_train, y_train, epochs=20, validation_data=(X_valid, y_valid))"
      ],
      "metadata": {
        "colab": {
          "base_uri": "https://localhost:8080/"
        },
        "id": "ndu5RSIrbtlh",
        "outputId": "1b1a9ebc-0783-41ea-c0ea-10093d25d232"
      },
      "execution_count": null,
      "outputs": [
        {
          "output_type": "stream",
          "name": "stdout",
          "text": [
            "Epoch 1/20\n",
            "363/363 [==============================] - 2s 3ms/step - loss: 0.9309 - root_mean_squared_error: 0.9648 - mean_absolute_percentage_error: 39.5973 - val_loss: 0.5704 - val_root_mean_squared_error: 0.7552 - val_mean_absolute_percentage_error: 35.8222\n",
            "Epoch 2/20\n",
            "363/363 [==============================] - 1s 3ms/step - loss: 0.5418 - root_mean_squared_error: 0.7360 - mean_absolute_percentage_error: 32.2698 - val_loss: 0.4953 - val_root_mean_squared_error: 0.7038 - val_mean_absolute_percentage_error: 31.4511\n",
            "Epoch 3/20\n",
            "363/363 [==============================] - 1s 3ms/step - loss: 0.4972 - root_mean_squared_error: 0.7051 - mean_absolute_percentage_error: 30.0392 - val_loss: 0.4770 - val_root_mean_squared_error: 0.6907 - val_mean_absolute_percentage_error: 29.7552\n",
            "Epoch 4/20\n",
            "363/363 [==============================] - 1s 2ms/step - loss: 0.4688 - root_mean_squared_error: 0.6847 - mean_absolute_percentage_error: 28.8840 - val_loss: 0.4492 - val_root_mean_squared_error: 0.6702 - val_mean_absolute_percentage_error: 28.3252\n",
            "Epoch 5/20\n",
            "363/363 [==============================] - 1s 2ms/step - loss: 0.4962 - root_mean_squared_error: 0.7044 - mean_absolute_percentage_error: 28.7988 - val_loss: 0.4469 - val_root_mean_squared_error: 0.6685 - val_mean_absolute_percentage_error: 28.6443\n",
            "Epoch 6/20\n",
            "363/363 [==============================] - 1s 2ms/step - loss: 0.4439 - root_mean_squared_error: 0.6662 - mean_absolute_percentage_error: 27.8054 - val_loss: 0.4361 - val_root_mean_squared_error: 0.6604 - val_mean_absolute_percentage_error: 28.4437\n",
            "Epoch 7/20\n",
            "363/363 [==============================] - 1s 2ms/step - loss: 0.4340 - root_mean_squared_error: 0.6588 - mean_absolute_percentage_error: 27.3801 - val_loss: 0.4289 - val_root_mean_squared_error: 0.6549 - val_mean_absolute_percentage_error: 26.5391\n",
            "Epoch 8/20\n",
            "363/363 [==============================] - 1s 2ms/step - loss: 0.4370 - root_mean_squared_error: 0.6610 - mean_absolute_percentage_error: 27.1817 - val_loss: 0.4260 - val_root_mean_squared_error: 0.6527 - val_mean_absolute_percentage_error: 26.0959\n",
            "Epoch 9/20\n",
            "363/363 [==============================] - 1s 2ms/step - loss: 0.4289 - root_mean_squared_error: 0.6549 - mean_absolute_percentage_error: 26.8679 - val_loss: 0.4168 - val_root_mean_squared_error: 0.6456 - val_mean_absolute_percentage_error: 26.8592\n",
            "Epoch 10/20\n",
            "363/363 [==============================] - 1s 3ms/step - loss: 0.4215 - root_mean_squared_error: 0.6492 - mean_absolute_percentage_error: 26.7769 - val_loss: 0.4149 - val_root_mean_squared_error: 0.6441 - val_mean_absolute_percentage_error: 25.6845\n",
            "Epoch 11/20\n",
            "363/363 [==============================] - 1s 3ms/step - loss: 0.4166 - root_mean_squared_error: 0.6455 - mean_absolute_percentage_error: 26.5275 - val_loss: 0.4071 - val_root_mean_squared_error: 0.6381 - val_mean_absolute_percentage_error: 26.1605\n",
            "Epoch 12/20\n",
            "363/363 [==============================] - 1s 2ms/step - loss: 0.4145 - root_mean_squared_error: 0.6438 - mean_absolute_percentage_error: 26.3156 - val_loss: 0.4057 - val_root_mean_squared_error: 0.6370 - val_mean_absolute_percentage_error: 26.3954\n",
            "Epoch 13/20\n",
            "363/363 [==============================] - 1s 3ms/step - loss: 0.4130 - root_mean_squared_error: 0.6426 - mean_absolute_percentage_error: 26.2164 - val_loss: 0.4037 - val_root_mean_squared_error: 0.6354 - val_mean_absolute_percentage_error: 26.0085\n",
            "Epoch 14/20\n",
            "363/363 [==============================] - 1s 3ms/step - loss: 0.4055 - root_mean_squared_error: 0.6368 - mean_absolute_percentage_error: 25.9259 - val_loss: 0.4035 - val_root_mean_squared_error: 0.6352 - val_mean_absolute_percentage_error: 25.5389\n",
            "Epoch 15/20\n",
            "363/363 [==============================] - 1s 3ms/step - loss: 0.4023 - root_mean_squared_error: 0.6342 - mean_absolute_percentage_error: 25.8962 - val_loss: 0.3974 - val_root_mean_squared_error: 0.6304 - val_mean_absolute_percentage_error: 24.8282\n",
            "Epoch 16/20\n",
            "363/363 [==============================] - 1s 2ms/step - loss: 0.3971 - root_mean_squared_error: 0.6301 - mean_absolute_percentage_error: 25.7208 - val_loss: 0.4019 - val_root_mean_squared_error: 0.6340 - val_mean_absolute_percentage_error: 24.5054\n",
            "Epoch 17/20\n",
            "363/363 [==============================] - 1s 2ms/step - loss: 0.3937 - root_mean_squared_error: 0.6275 - mean_absolute_percentage_error: 25.5616 - val_loss: 0.3888 - val_root_mean_squared_error: 0.6235 - val_mean_absolute_percentage_error: 25.6855\n",
            "Epoch 18/20\n",
            "363/363 [==============================] - 1s 2ms/step - loss: 0.3927 - root_mean_squared_error: 0.6266 - mean_absolute_percentage_error: 25.5399 - val_loss: 0.3889 - val_root_mean_squared_error: 0.6236 - val_mean_absolute_percentage_error: 25.0311\n",
            "Epoch 19/20\n",
            "363/363 [==============================] - 1s 2ms/step - loss: 0.3894 - root_mean_squared_error: 0.6240 - mean_absolute_percentage_error: 25.4517 - val_loss: 0.3850 - val_root_mean_squared_error: 0.6204 - val_mean_absolute_percentage_error: 24.2561\n",
            "Epoch 20/20\n",
            "363/363 [==============================] - 1s 2ms/step - loss: 0.3874 - root_mean_squared_error: 0.6224 - mean_absolute_percentage_error: 25.3208 - val_loss: 0.3871 - val_root_mean_squared_error: 0.6222 - val_mean_absolute_percentage_error: 25.0044\n"
          ]
        }
      ]
    },
    {
      "cell_type": "code",
      "source": [
        "pd.DataFrame(history.history)[['loss', 'val_loss', 'root_mean_squared_error', 'val_root_mean_squared_error']].plot(figsize=(8,5))\n",
        "plt.grid(True)\n",
        "plt.show()"
      ],
      "metadata": {
        "colab": {
          "base_uri": "https://localhost:8080/",
          "height": 320
        },
        "id": "WeXPzIk5bua-",
        "outputId": "d8d72ce4-7b68-4bfa-c2be-72f29d6716b5"
      },
      "execution_count": null,
      "outputs": [
        {
          "output_type": "display_data",
          "data": {
            "text/plain": [
              "<Figure size 576x360 with 1 Axes>"
            ],
            "image/png": "[encoded data removed]"
          },
          "metadata": {
            "needs_background": "light"
          }
        }
      ]
    },
    {
      "cell_type": "code",
      "source": [
        "pd.DataFrame(history.history)[['mean_absolute_percentage_error', 'val_mean_absolute_percentage_error']].plot(figsize=(8,5))\n",
        "plt.grid(True)\n",
        "plt.show()"
      ],
      "metadata": {
        "colab": {
          "base_uri": "https://localhost:8080/",
          "height": 320
        },
        "id": "1VSvundUcJ4i",
        "outputId": "b42b8749-2b81-4b97-b974-2c485e62008d"
      },
      "execution_count": null,
      "outputs": [
        {
          "output_type": "display_data",
          "data": {
            "text/plain": [
              "<Figure size 576x360 with 1 Axes>"
            ],
            "image/png": "[encoded data removed]"
          },
          "metadata": {
            "needs_background": "light"
          }
        }
      ]
    },
    {
      "cell_type": "code",
      "source": [
        "mse_test = model.evaluate(X_test, y_test)"
      ],
      "metadata": {
        "colab": {
          "base_uri": "https://localhost:8080/"
        },
        "id": "ZWSxRJECcNHj",
        "outputId": "469e3311-a012-42b5-8145-eb1d4e60cc97"
      },
      "execution_count": null,
      "outputs": [
        {
          "output_type": "stream",
          "name": "stdout",
          "text": [
            "162/162 [==============================] - 0s 2ms/step - loss: 0.4546 - root_mean_squared_error: 0.6742 - mean_absolute_percentage_error: 26.3700\n"
          ]
        }
      ]
    },
    {
      "cell_type": "code",
      "source": [
        "X_new = X_test[:3]\n",
        "X_pred = model.predict(X_new)\n",
        "X_pred"
      ],
      "metadata": {
        "colab": {
          "base_uri": "https://localhost:8080/"
        },
        "id": "C3gq0EZOcQBN",
        "outputId": "91f938fc-0ab0-473e-fb46-72b834032cf5"
      },
      "execution_count": null,
      "outputs": [
        {
          "output_type": "stream",
          "name": "stdout",
          "text": [
            "1/1 [==============================] - 0s 101ms/step\n"
          ]
        },
        {
          "output_type": "execute_result",
          "data": {
            "text/plain": [
              "array([[3.5043275],\n",
              "       [2.2214751],\n",
              "       [1.6924994]], dtype=float32)"
            ]
          },
          "metadata": {},
          "execution_count": 43
        }
      ]
    },
    {
      "cell_type": "code",
      "source": [
        "y_test[:3]"
      ],
      "metadata": {
        "id": "M4Mj-Pnocn7d",
        "outputId": "49f62446-da8e-4eb4-e4d0-dded8cb5ce9d",
        "colab": {
          "base_uri": "https://localhost:8080/"
        }
      },
      "execution_count": null,
      "outputs": [
        {
          "output_type": "execute_result",
          "data": {
            "text/plain": [
              "array([3.9  , 1.591, 1.958])"
            ]
          },
          "metadata": {},
          "execution_count": 44
        }
      ]
    }
  ]
}
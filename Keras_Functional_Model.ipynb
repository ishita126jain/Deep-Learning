{
  "nbformat": 4,
  "nbformat_minor": 0,
  "metadata": {
    "colab": {
      "provenance": []
    },
    "kernelspec": {
      "name": "python3",
      "display_name": "Python 3"
    },
    "language_info": {
      "name": "python"
    }
  },
  "cells": [
    {
      "cell_type": "code",
      "execution_count": null,
      "metadata": {
        "colab": {
          "base_uri": "https://localhost:8080/"
        },
        "id": "DjPsM9216LcJ",
        "outputId": "09dc6dc1-1e3e-470b-f4b4-91cdc18e501b"
      },
      "outputs": [
        {
          "output_type": "stream",
          "name": "stdout",
          "text": [
            "Model: \"model_11\"\n",
            "__________________________________________________________________________________________________\n",
            " Layer (type)                   Output Shape         Param #     Connected to                     \n",
            "==================================================================================================\n",
            " input_14 (InputLayer)          [(None, 2)]          0           []                               \n",
            "                                                                                                  \n",
            " dense_49 (Dense)               (None, 2)            6           ['input_14[0][0]']               \n",
            "                                                                                                  \n",
            " dense_50 (Dense)               (None, 2)            6           ['input_14[0][0]']               \n",
            "                                                                                                  \n",
            " concatenate_12 (Concatenate)   (None, 4)            0           ['dense_49[0][0]',               \n",
            "                                                                  'dense_50[0][0]']               \n",
            "                                                                                                  \n",
            " dense_51 (Dense)               (None, 2)            10          ['concatenate_12[0][0]']         \n",
            "                                                                                                  \n",
            " dense_52 (Dense)               (None, 1)            3           ['dense_51[0][0]']               \n",
            "                                                                                                  \n",
            "==================================================================================================\n",
            "Total params: 25\n",
            "Trainable params: 25\n",
            "Non-trainable params: 0\n",
            "__________________________________________________________________________________________________\n"
          ]
        }
      ],
      "source": [
        "from keras.layers import Input\n",
        "from keras.layers import concatenate\n",
        "from keras.models import Model\n",
        "from keras.layers import Dense\n",
        "#from keras.layers import *\n",
        "import tensorflow as tf\n",
        "tf.random.set_seed(34)\n",
        "\n",
        "inputs = Input(shape=2)\n",
        "h1_1 = Dense(units = 2, activation = 'relu')(inputs)\n",
        "h1_2 = Dense(units = 2, activation = 'relu')(inputs)\n",
        "c = concatenate([h1_1, h1_2])\n",
        "h2 = Dense(units = 2, activation= 'relu')(c)\n",
        "o = Dense(units = 1, activation = 'sigmoid')(h2)\n",
        "functional_model = Model(inputs,o)\n",
        "functional_model.summary()"
      ]
    },
    {
      "cell_type": "code",
      "source": [
        "#model for or gate\n",
        "import numpy as np\n",
        "X = np.array([[0,0],[0,1],[1,0],[1,1]])\n",
        "Y = np.array([[0],[1],[1],[1]])"
      ],
      "metadata": {
        "id": "uI-pd1XH_y1O"
      },
      "execution_count": null,
      "outputs": []
    },
    {
      "cell_type": "code",
      "source": [
        "functional_model.compile(optimizer='sgd', loss='binary_crossentropy',metrics=['accuracy'])"
      ],
      "metadata": {
        "id": "_3ylCXtVAICo"
      },
      "execution_count": null,
      "outputs": []
    },
    {
      "cell_type": "code",
      "source": [
        "functional_model.fit(X, Y, epochs=10)"
      ],
      "metadata": {
        "colab": {
          "base_uri": "https://localhost:8080/"
        },
        "id": "dC6xQRSl_-Gu",
        "outputId": "274634ec-d718-4d6d-a8f6-a0cb1300c845"
      },
      "execution_count": null,
      "outputs": [
        {
          "output_type": "stream",
          "name": "stdout",
          "text": [
            "Epoch 1/10\n",
            "1/1 [==============================] - 0s 9ms/step - loss: 0.2482 - accuracy: 1.0000\n",
            "Epoch 2/10\n",
            "1/1 [==============================] - 0s 12ms/step - loss: 0.2477 - accuracy: 1.0000\n",
            "Epoch 3/10\n",
            "1/1 [==============================] - 0s 7ms/step - loss: 0.2472 - accuracy: 1.0000\n",
            "Epoch 4/10\n",
            "1/1 [==============================] - 0s 9ms/step - loss: 0.2468 - accuracy: 1.0000\n",
            "Epoch 5/10\n",
            "1/1 [==============================] - 0s 7ms/step - loss: 0.2463 - accuracy: 1.0000\n",
            "Epoch 6/10\n",
            "1/1 [==============================] - 0s 7ms/step - loss: 0.2460 - accuracy: 1.0000\n",
            "Epoch 7/10\n",
            "1/1 [==============================] - 0s 12ms/step - loss: 0.2455 - accuracy: 1.0000\n",
            "Epoch 8/10\n",
            "1/1 [==============================] - 0s 8ms/step - loss: 0.2451 - accuracy: 1.0000\n",
            "Epoch 9/10\n",
            "1/1 [==============================] - 0s 6ms/step - loss: 0.2446 - accuracy: 1.0000\n",
            "Epoch 10/10\n",
            "1/1 [==============================] - 0s 6ms/step - loss: 0.2443 - accuracy: 1.0000\n"
          ]
        },
        {
          "output_type": "execute_result",
          "data": {
            "text/plain": [
              "<keras.callbacks.History at 0x7f9a3e6afd30>"
            ]
          },
          "metadata": {},
          "execution_count": 41
        }
      ]
    },
    {
      "cell_type": "code",
      "source": [
        "loss, accuracy = functional_model.evaluate(X,Y)"
      ],
      "metadata": {
        "colab": {
          "base_uri": "https://localhost:8080/"
        },
        "id": "KAoAe3JvA4Dh",
        "outputId": "395c220e-d11a-4061-a769-340e357d6b18"
      },
      "execution_count": null,
      "outputs": [
        {
          "output_type": "stream",
          "name": "stdout",
          "text": [
            "1/1 [==============================] - 0s 25ms/step - loss: 0.2438 - accuracy: 1.0000\n"
          ]
        }
      ]
    },
    {
      "cell_type": "code",
      "source": [],
      "metadata": {
        "id": "kgh3dRYJBvfM"
      },
      "execution_count": null,
      "outputs": []
    },
    {
      "cell_type": "code",
      "source": [
        "pred = functional_model.predict(X)\n",
        "#pred = (functional_model.predict(X)>0.5).astype(int)\n",
        "pred"
      ],
      "metadata": {
        "colab": {
          "base_uri": "https://localhost:8080/"
        },
        "id": "9xx0-Kba26MZ",
        "outputId": "b6fc04af-d6a5-442f-f69f-1f3d127e5017"
      },
      "execution_count": null,
      "outputs": [
        {
          "output_type": "stream",
          "name": "stdout",
          "text": [
            "1/1 [==============================] - 0s 67ms/step\n"
          ]
        },
        {
          "output_type": "execute_result",
          "data": {
            "text/plain": [
              "array([[0.49810112],\n",
              "       [0.9513967 ],\n",
              "       [0.8069379 ],\n",
              "       [0.978768  ]], dtype=float32)"
            ]
          },
          "metadata": {},
          "execution_count": 43
        }
      ]
    },
    {
      "cell_type": "code",
      "source": [
        "functional_model.layers"
      ],
      "metadata": {
        "colab": {
          "base_uri": "https://localhost:8080/"
        },
        "id": "jQqYP0btCwbz",
        "outputId": "d971c057-5733-471b-efc3-a339c95af947"
      },
      "execution_count": null,
      "outputs": [
        {
          "output_type": "execute_result",
          "data": {
            "text/plain": [
              "[<keras.engine.input_layer.InputLayer at 0x7f9a3e8336d0>,\n",
              " <keras.layers.core.dense.Dense at 0x7f9a3e833730>,\n",
              " <keras.layers.core.dense.Dense at 0x7f9a3e847b50>,\n",
              " <keras.layers.merging.concatenate.Concatenate at 0x7f9a3e9c0310>,\n",
              " <keras.layers.core.dense.Dense at 0x7f9a3e847ee0>,\n",
              " <keras.layers.core.dense.Dense at 0x7f9a3e82dd00>]"
            ]
          },
          "metadata": {},
          "execution_count": 47
        }
      ]
    },
    {
      "cell_type": "code",
      "source": [
        "hidden1 = functional_model.layers[1]\n",
        "weights, biases = hidden1.get_weights()\n",
        "print(\"weights: \" , weights)\n",
        "print(\"\\n\")\n",
        "print(\"biases: \" , biases)"
      ],
      "metadata": {
        "colab": {
          "base_uri": "https://localhost:8080/"
        },
        "id": "iq5p6ta2C7nH",
        "outputId": "84c7833f-8d21-4fa7-db5d-fa293293bcaf"
      },
      "execution_count": null,
      "outputs": [
        {
          "output_type": "stream",
          "name": "stdout",
          "text": [
            "weights:  [[-0.06758756 -0.5860491 ]\n",
            " [ 1.1027528   0.46501186]]\n",
            "\n",
            "\n",
            "biases:  [ 8.6478743e-05 -8.8222197e-04]\n"
          ]
        }
      ]
    },
    {
      "cell_type": "code",
      "source": [
        "output = functional_model.layers[-1]\n",
        "weights, biases = output.get_weights()\n",
        "print(\"weights: \" , weights)\n",
        "print(\"\\n\")\n",
        "print(\"biases: \" , biases)"
      ],
      "metadata": {
        "colab": {
          "base_uri": "https://localhost:8080/"
        },
        "id": "gZufNhbpDyPq",
        "outputId": "b866b0a4-da9d-4939-a636-7d5344fc36c2"
      },
      "execution_count": null,
      "outputs": [
        {
          "output_type": "stream",
          "name": "stdout",
          "text": [
            "weights:  [[-0.28995466]\n",
            " [ 1.4268916 ]]\n",
            "\n",
            "\n",
            "biases:  [-0.0074116]\n"
          ]
        }
      ]
    },
    {
      "cell_type": "code",
      "source": [
        "#we get all the weights and biases\n",
        "functional_model.get_weights()"
      ],
      "metadata": {
        "colab": {
          "base_uri": "https://localhost:8080/"
        },
        "id": "S0Hm6rCeEElO",
        "outputId": "a3a3c8e4-b659-4537-db13-39a72cb3634b"
      },
      "execution_count": null,
      "outputs": [
        {
          "output_type": "execute_result",
          "data": {
            "text/plain": [
              "[array([[-0.06758756, -0.5860491 ],\n",
              "        [ 1.1027528 ,  0.46501186]], dtype=float32),\n",
              " array([ 8.6478743e-05, -8.8222197e-04], dtype=float32),\n",
              " array([[-1.0973021 ,  1.1883938 ],\n",
              "        [ 0.02335433,  1.0731537 ]], dtype=float32),\n",
              " array([-9.1656880e-04,  8.2977465e-05], dtype=float32),\n",
              " array([[ 0.5353694 ,  0.85484487],\n",
              "        [ 0.25732407,  0.7849635 ],\n",
              "        [-0.4667278 ,  0.6611753 ],\n",
              "        [ 0.8239594 ,  1.0154114 ]], dtype=float32),\n",
              " array([0.00181498, 0.00010502], dtype=float32),\n",
              " array([[-0.28995466],\n",
              "        [ 1.4268916 ]], dtype=float32),\n",
              " array([-0.0074116], dtype=float32)]"
            ]
          },
          "metadata": {},
          "execution_count": 58
        }
      ]
    }
  ]
}
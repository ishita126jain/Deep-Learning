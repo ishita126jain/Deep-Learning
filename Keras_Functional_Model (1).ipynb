{
  "nbformat": 4,
  "nbformat_minor": 0,
  "metadata": {
    "colab": {
      "provenance": []
    },
    "kernelspec": {
      "name": "python3",
      "display_name": "Python 3"
    },
    "language_info": {
      "name": "python"
    }
  },
  "cells": [
    {
      "cell_type": "code",
      "execution_count": null,
      "metadata": {
        "colab": {
          "base_uri": "https://localhost:8080/"
        },
        "id": "DjPsM9216LcJ",
        "outputId": "6134495f-fb92-4024-89bd-664594be386e"
      },
      "outputs": [
        {
          "output_type": "stream",
          "name": "stdout",
          "text": [
            "Model: \"model_2\"\n",
            "__________________________________________________________________________________________________\n",
            " Layer (type)                   Output Shape         Param #     Connected to                     \n",
            "==================================================================================================\n",
            " input_3 (InputLayer)           [(None, 2)]          0           []                               \n",
            "                                                                                                  \n",
            " dense_8 (Dense)                (None, 2)            6           ['input_3[0][0]']                \n",
            "                                                                                                  \n",
            " dense_9 (Dense)                (None, 2)            6           ['input_3[0][0]']                \n",
            "                                                                                                  \n",
            " concatenate_2 (Concatenate)    (None, 4)            0           ['dense_8[0][0]',                \n",
            "                                                                  'dense_9[0][0]']                \n",
            "                                                                                                  \n",
            " dense_10 (Dense)               (None, 2)            10          ['concatenate_2[0][0]']          \n",
            "                                                                                                  \n",
            " dense_11 (Dense)               (None, 1)            3           ['dense_10[0][0]']               \n",
            "                                                                                                  \n",
            "==================================================================================================\n",
            "Total params: 25\n",
            "Trainable params: 25\n",
            "Non-trainable params: 0\n",
            "__________________________________________________________________________________________________\n"
          ]
        }
      ],
      "source": [
        "from keras.layers import Input\n",
        "from keras.layers import concatenate\n",
        "from keras.models import Model\n",
        "from keras.layers import Dense\n",
        "#from keras.layers import *\n",
        "import tensorflow as tf\n",
        "import keras\n",
        "tf.random.set_seed(34)\n",
        "\n",
        "inputs = Input(shape=2)\n",
        "h1_1 = Dense(units = 2, activation = 'relu')(inputs)\n",
        "h1_2 = Dense(units = 2, activation = 'relu')(inputs)\n",
        "c = concatenate([h1_1, h1_2])\n",
        "h2 = Dense(units = 2, activation= 'relu')(c)\n",
        "o = Dense(units = 1, activation = 'sigmoid')(h2)\n",
        "functional_model = Model(inputs,o)\n",
        "functional_model.summary()"
      ]
    },
    {
      "cell_type": "code",
      "source": [
        "functional_model.layers[0].get_weights()"
      ],
      "metadata": {
        "colab": {
          "base_uri": "https://localhost:8080/"
        },
        "id": "rzPHr0u61PhF",
        "outputId": "f40f430c-bf34-4ded-b685-0ff8efe0133e"
      },
      "execution_count": null,
      "outputs": [
        {
          "output_type": "execute_result",
          "data": {
            "text/plain": [
              "[]"
            ]
          },
          "metadata": {},
          "execution_count": 105
        }
      ]
    },
    {
      "cell_type": "code",
      "source": [
        "len(functional_model.layers)"
      ],
      "metadata": {
        "colab": {
          "base_uri": "https://localhost:8080/"
        },
        "id": "EAzZZyqu2jSy",
        "outputId": "bbf033d5-0fcd-44f3-af3f-5fbc6258cf72"
      },
      "execution_count": null,
      "outputs": [
        {
          "output_type": "execute_result",
          "data": {
            "text/plain": [
              "6"
            ]
          },
          "metadata": {},
          "execution_count": 106
        }
      ]
    },
    {
      "cell_type": "code",
      "source": [
        "functional_model.layers[1].get_weights()"
      ],
      "metadata": {
        "colab": {
          "base_uri": "https://localhost:8080/"
        },
        "id": "_6p0oPZo2vCG",
        "outputId": "0a726fdb-00ff-479e-dad6-d341c164f1f5"
      },
      "execution_count": null,
      "outputs": [
        {
          "output_type": "execute_result",
          "data": {
            "text/plain": [
              "[array([[-0.06836784, -0.5860491 ],\n",
              "        [ 1.1002396 ,  0.46330345]], dtype=float32),\n",
              " array([0., 0.], dtype=float32)]"
            ]
          },
          "metadata": {},
          "execution_count": 107
        }
      ]
    },
    {
      "cell_type": "code",
      "source": [
        "functional_model.layers[2].get_weights()"
      ],
      "metadata": {
        "colab": {
          "base_uri": "https://localhost:8080/"
        },
        "id": "VFqf1AFK29Y6",
        "outputId": "b8b666b4-620f-4f88-e782-1b509dfe7301"
      },
      "execution_count": null,
      "outputs": [
        {
          "output_type": "execute_result",
          "data": {
            "text/plain": [
              "[array([[-1.0973021 ,  1.179897  ],\n",
              "        [ 0.02158129,  1.0703229 ]], dtype=float32),\n",
              " array([0., 0.], dtype=float32)]"
            ]
          },
          "metadata": {},
          "execution_count": 108
        }
      ]
    },
    {
      "cell_type": "code",
      "source": [
        "functional_model.layers[-1].get_weights()"
      ],
      "metadata": {
        "colab": {
          "base_uri": "https://localhost:8080/"
        },
        "id": "vgRriXlz22Cw",
        "outputId": "e8e803c6-9d9b-4d13-966b-14a85107375f"
      },
      "execution_count": null,
      "outputs": [
        {
          "output_type": "execute_result",
          "data": {
            "text/plain": [
              "[array([[-0.3006308],\n",
              "        [ 1.4129516]], dtype=float32), array([0.], dtype=float32)]"
            ]
          },
          "metadata": {},
          "execution_count": 109
        }
      ]
    },
    {
      "cell_type": "code",
      "source": [
        "#How to use or set weights\n",
        "#functional_model.layers[0].set_weights(given_weights)\n",
        "#given_weights is the variable"
      ],
      "metadata": {
        "id": "rfTMs8l64XQ5"
      },
      "execution_count": null,
      "outputs": []
    },
    {
      "cell_type": "code",
      "source": [
        "#model for or gate\n",
        "import numpy as np\n",
        "X = np.array([[0,0],[0,1],[1,0],[1,1]])\n",
        "Y = np.array([[0],[1],[1],[1]])"
      ],
      "metadata": {
        "id": "uI-pd1XH_y1O"
      },
      "execution_count": null,
      "outputs": []
    },
    {
      "cell_type": "code",
      "source": [
        "functional_model.get_weights()"
      ],
      "metadata": {
        "colab": {
          "base_uri": "https://localhost:8080/"
        },
        "id": "fmpPMhQqyJ0_",
        "outputId": "7fb9b5e5-7337-47d3-8b32-b40b0578be6a"
      },
      "execution_count": null,
      "outputs": [
        {
          "output_type": "execute_result",
          "data": {
            "text/plain": [
              "[array([[-0.06836784, -0.5860491 ],\n",
              "        [ 1.1002396 ,  0.46330345]], dtype=float32),\n",
              " array([0., 0.], dtype=float32),\n",
              " array([[-1.0973021 ,  1.179897  ],\n",
              "        [ 0.02158129,  1.0703229 ]], dtype=float32),\n",
              " array([0., 0.], dtype=float32),\n",
              " array([[ 0.5361321 ,  0.8511841 ],\n",
              "        [ 0.25754976,  0.78388   ],\n",
              "        [-0.46671724,  0.66112447],\n",
              "        [ 0.8272252 ,  0.9997351 ]], dtype=float32),\n",
              " array([0., 0.], dtype=float32),\n",
              " array([[-0.3006308],\n",
              "        [ 1.4129516]], dtype=float32),\n",
              " array([0.], dtype=float32)]"
            ]
          },
          "metadata": {},
          "execution_count": 112
        }
      ]
    },
    {
      "cell_type": "code",
      "source": [
        "functional_model.compile(optimizer='sgd', loss='binary_crossentropy',metrics=['accuracy'])"
      ],
      "metadata": {
        "id": "_3ylCXtVAICo"
      },
      "execution_count": null,
      "outputs": []
    },
    {
      "cell_type": "code",
      "source": [
        "my_callback = keras.callbacks.EarlyStopping(monitor = 'loss', mode = 'min', patience = 5, min_delta = 0.001)"
      ],
      "metadata": {
        "id": "fK930x_HtpLR"
      },
      "execution_count": null,
      "outputs": []
    },
    {
      "cell_type": "code",
      "source": [
        "functional_model.get_weights()"
      ],
      "metadata": {
        "colab": {
          "base_uri": "https://localhost:8080/"
        },
        "id": "578LoEHxx74q",
        "outputId": "41a57784-e109-4482-e742-2c33e032a541"
      },
      "execution_count": null,
      "outputs": [
        {
          "output_type": "execute_result",
          "data": {
            "text/plain": [
              "[array([[-0.06836784, -0.5860491 ],\n",
              "        [ 1.1002396 ,  0.46330345]], dtype=float32),\n",
              " array([0., 0.], dtype=float32),\n",
              " array([[-1.0973021 ,  1.179897  ],\n",
              "        [ 0.02158129,  1.0703229 ]], dtype=float32),\n",
              " array([0., 0.], dtype=float32),\n",
              " array([[ 0.5361321 ,  0.8511841 ],\n",
              "        [ 0.25754976,  0.78388   ],\n",
              "        [-0.46671724,  0.66112447],\n",
              "        [ 0.8272252 ,  0.9997351 ]], dtype=float32),\n",
              " array([0., 0.], dtype=float32),\n",
              " array([[-0.3006308],\n",
              "        [ 1.4129516]], dtype=float32),\n",
              " array([0.], dtype=float32)]"
            ]
          },
          "metadata": {},
          "execution_count": 115
        }
      ]
    },
    {
      "cell_type": "code",
      "source": [
        "functional_model.fit(X, Y, epochs=10000, callbacks=my_callback, verbose=0)\n"
      ],
      "metadata": {
        "colab": {
          "base_uri": "https://localhost:8080/"
        },
        "id": "dC6xQRSl_-Gu",
        "outputId": "0f440743-51c8-43cf-ff0d-5e74169fde3c"
      },
      "execution_count": null,
      "outputs": [
        {
          "output_type": "execute_result",
          "data": {
            "text/plain": [
              "<keras.callbacks.History at 0x7fee32754400>"
            ]
          },
          "metadata": {},
          "execution_count": 116
        }
      ]
    },
    {
      "cell_type": "code",
      "source": [
        "loss, accuracy = functional_model.evaluate(X,Y)"
      ],
      "metadata": {
        "colab": {
          "base_uri": "https://localhost:8080/"
        },
        "id": "KAoAe3JvA4Dh",
        "outputId": "8e261646-500f-4512-c9b3-ef7a17f7e62b"
      },
      "execution_count": null,
      "outputs": [
        {
          "output_type": "stream",
          "name": "stdout",
          "text": [
            "1/1 [==============================] - 0s 162ms/step - loss: 0.1928 - accuracy: 1.0000\n"
          ]
        }
      ]
    },
    {
      "cell_type": "code",
      "source": [
        "pred = functional_model.predict(X)\n",
        "#pred = (functional_model.predict(X)>0.5).astype(int)\n",
        "pred"
      ],
      "metadata": {
        "colab": {
          "base_uri": "https://localhost:8080/"
        },
        "id": "9xx0-Kba26MZ",
        "outputId": "70fd71b7-627e-42b1-ad95-d022b7ad72a5"
      },
      "execution_count": null,
      "outputs": [
        {
          "output_type": "stream",
          "name": "stdout",
          "text": [
            "1/1 [==============================] - 0s 80ms/step\n"
          ]
        },
        {
          "output_type": "execute_result",
          "data": {
            "text/plain": [
              "array([[0.4636814],\n",
              "       [0.978118 ],\n",
              "       [0.8860612],\n",
              "       [0.9950164]], dtype=float32)"
            ]
          },
          "metadata": {},
          "execution_count": 118
        }
      ]
    },
    {
      "cell_type": "code",
      "source": [
        "functional_model.layers"
      ],
      "metadata": {
        "colab": {
          "base_uri": "https://localhost:8080/"
        },
        "id": "jQqYP0btCwbz",
        "outputId": "249f0646-75a4-4d75-c04e-c80da9adffd1"
      },
      "execution_count": null,
      "outputs": [
        {
          "output_type": "execute_result",
          "data": {
            "text/plain": [
              "[<keras.engine.input_layer.InputLayer at 0x7fee337f3ee0>,\n",
              " <keras.layers.core.dense.Dense at 0x7fee337f3190>,\n",
              " <keras.layers.core.dense.Dense at 0x7fee32768dc0>,\n",
              " <keras.layers.merging.concatenate.Concatenate at 0x7fee337f32e0>,\n",
              " <keras.layers.core.dense.Dense at 0x7fee32768910>,\n",
              " <keras.layers.core.dense.Dense at 0x7feec4718d60>]"
            ]
          },
          "metadata": {},
          "execution_count": 119
        }
      ]
    },
    {
      "cell_type": "code",
      "source": [
        "hidden1 = functional_model.layers[1]\n",
        "weights, biases = hidden1.get_weights()\n",
        "print(\"weights: \" , weights)\n",
        "print(\"\\n\")\n",
        "print(\"biases: \" , biases)"
      ],
      "metadata": {
        "colab": {
          "base_uri": "https://localhost:8080/"
        },
        "id": "iq5p6ta2C7nH",
        "outputId": "91acc965-1a31-416b-848a-7c14eca5a4e5"
      },
      "execution_count": null,
      "outputs": [
        {
          "output_type": "stream",
          "name": "stdout",
          "text": [
            "weights:  [[-0.06198551 -0.5860491 ]\n",
            " [ 1.125425    0.48129252]]\n",
            "\n",
            "\n",
            "biases:  [-2.5602407e-05 -4.6890025e-04]\n"
          ]
        }
      ]
    },
    {
      "cell_type": "code",
      "source": [
        "output = functional_model.layers[-1]\n",
        "weights, biases = output.get_weights()\n",
        "print(\"weights: \" , weights)\n",
        "print(\"\\n\")\n",
        "print(\"biases: \" , biases)"
      ],
      "metadata": {
        "colab": {
          "base_uri": "https://localhost:8080/"
        },
        "id": "gZufNhbpDyPq",
        "outputId": "48dd5656-e364-41b8-d9de-ff7c04edde0f"
      },
      "execution_count": null,
      "outputs": [
        {
          "output_type": "stream",
          "name": "stdout",
          "text": [
            "weights:  [[-0.19108441]\n",
            " [ 1.5710553 ]]\n",
            "\n",
            "\n",
            "biases:  [-0.13807876]\n"
          ]
        }
      ]
    },
    {
      "cell_type": "code",
      "source": [
        "#we get all the weights and biases\n",
        "functional_model.get_weights()"
      ],
      "metadata": {
        "colab": {
          "base_uri": "https://localhost:8080/"
        },
        "id": "S0Hm6rCeEElO",
        "outputId": "497061e6-a6b6-446f-a65a-fdb44f6a557f"
      },
      "execution_count": null,
      "outputs": [
        {
          "output_type": "execute_result",
          "data": {
            "text/plain": [
              "[array([[-0.06198551, -0.5860491 ],\n",
              "        [ 1.125425  ,  0.48129252]], dtype=float32),\n",
              " array([-2.5602407e-05, -4.6890025e-04], dtype=float32),\n",
              " array([[-1.0973021 ,  1.2920595 ],\n",
              "        [ 0.03937855,  1.1009154 ]], dtype=float32),\n",
              " array([-0.00116813,  0.00854856], dtype=float32),\n",
              " array([[ 0.53021914,  0.88657314],\n",
              "        [ 0.25566804,  0.79523677],\n",
              "        [-0.46683347,  0.66184604],\n",
              "        [ 0.79781455,  1.1793894 ]], dtype=float32),\n",
              " array([ 0.03217831, -0.01034249], dtype=float32),\n",
              " array([[-0.19108441],\n",
              "        [ 1.5710553 ]], dtype=float32),\n",
              " array([-0.13807876], dtype=float32)]"
            ]
          },
          "metadata": {},
          "execution_count": 122
        }
      ]
    },
    {
      "cell_type": "code",
      "source": [
        "#change weight and bias by adding 0.5 in it\n",
        "lst = functional_model.get_weights()\n",
        "for i in range(len(lst)):\n",
        "  for j in range(len(lst[i])):\n",
        "    lst[i][j]  = lst[i][j] +0.5\n",
        "lst"
      ],
      "metadata": {
        "colab": {
          "base_uri": "https://localhost:8080/"
        },
        "id": "HFfGVBxJdswQ",
        "outputId": "c88a5142-dfe4-4efe-b3d7-478be606a700"
      },
      "execution_count": null,
      "outputs": [
        {
          "output_type": "execute_result",
          "data": {
            "text/plain": [
              "[array([[ 0.43801448, -0.08604908],\n",
              "        [ 1.625425  ,  0.9812925 ]], dtype=float32),\n",
              " array([0.4999744, 0.4995311], dtype=float32),\n",
              " array([[-0.5973021,  1.7920595],\n",
              "        [ 0.5393785,  1.6009154]], dtype=float32),\n",
              " array([0.49883187, 0.50854856], dtype=float32),\n",
              " array([[1.0302191 , 1.3865731 ],\n",
              "        [0.75566804, 1.2952368 ],\n",
              "        [0.03316653, 1.161846  ],\n",
              "        [1.2978146 , 1.6793894 ]], dtype=float32),\n",
              " array([0.5321783 , 0.48965752], dtype=float32),\n",
              " array([[0.3089156],\n",
              "        [2.0710554]], dtype=float32),\n",
              " array([0.36192125], dtype=float32)]"
            ]
          },
          "metadata": {},
          "execution_count": 103
        }
      ]
    },
    {
      "cell_type": "code",
      "source": [
        "functional_model.set_weights(lst)"
      ],
      "metadata": {
        "id": "XvzuKV3Ir5GY"
      },
      "execution_count": null,
      "outputs": []
    },
    {
      "cell_type": "code",
      "source": [
        "functional_model.get_weights()"
      ],
      "metadata": {
        "colab": {
          "base_uri": "https://localhost:8080/"
        },
        "id": "gNc7D_vxstKx",
        "outputId": "ea23a009-e999-4555-c811-e7999dde6995"
      },
      "execution_count": null,
      "outputs": [
        {
          "output_type": "execute_result",
          "data": {
            "text/plain": [
              "[array([[ 0.43801448, -0.08604908],\n",
              "        [ 1.625425  ,  0.9812925 ]], dtype=float32),\n",
              " array([0.4999744, 0.4995311], dtype=float32),\n",
              " array([[-0.5973021,  1.7920595],\n",
              "        [ 0.5393785,  1.6009154]], dtype=float32),\n",
              " array([0.49883187, 0.50854856], dtype=float32),\n",
              " array([[1.0302191 , 1.3865731 ],\n",
              "        [0.75566804, 1.2952368 ],\n",
              "        [0.03316653, 1.161846  ],\n",
              "        [1.2978146 , 1.6793894 ]], dtype=float32),\n",
              " array([0.5321783 , 0.48965752], dtype=float32),\n",
              " array([[0.3089156],\n",
              "        [2.0710554]], dtype=float32),\n",
              " array([0.36192125], dtype=float32)]"
            ]
          },
          "metadata": {},
          "execution_count": 125
        }
      ]
    },
    {
      "cell_type": "code",
      "source": [
        "#now train the model using new weights\n",
        "functional_model.compile(optimizer='sgd', loss='binary_crossentropy',metrics=['accuracy'])"
      ],
      "metadata": {
        "id": "6YczRh_vsyj2"
      },
      "execution_count": null,
      "outputs": []
    },
    {
      "cell_type": "code",
      "source": [
        "my_callback = keras.callbacks.EarlyStopping(monitor = 'loss', mode = 'min', patience = 5, min_delta = 0.001)"
      ],
      "metadata": {
        "id": "iATCsivltFFZ"
      },
      "execution_count": null,
      "outputs": []
    },
    {
      "cell_type": "code",
      "source": [
        "functional_model.fit(X, Y, epochs=10000, callbacks=my_callback, verbose=0)"
      ],
      "metadata": {
        "colab": {
          "base_uri": "https://localhost:8080/"
        },
        "id": "-hTE0QJotUMF",
        "outputId": "b5a40d3c-2932-47a3-dfda-c1111a34f5d4"
      },
      "execution_count": null,
      "outputs": [
        {
          "output_type": "execute_result",
          "data": {
            "text/plain": [
              "<keras.callbacks.History at 0x7fee3338e100>"
            ]
          },
          "metadata": {},
          "execution_count": 129
        }
      ]
    },
    {
      "cell_type": "code",
      "source": [
        "loss, accuracy = functional_model.evaluate(X,Y)"
      ],
      "metadata": {
        "colab": {
          "base_uri": "https://localhost:8080/"
        },
        "id": "QLZJO_OStbz-",
        "outputId": "c750f707-bb77-4ed1-c07f-4b7998567173"
      },
      "execution_count": null,
      "outputs": [
        {
          "output_type": "stream",
          "name": "stdout",
          "text": [
            "1/1 [==============================] - 0s 147ms/step - loss: 0.1788 - accuracy: 0.7500\n"
          ]
        }
      ]
    },
    {
      "cell_type": "code",
      "source": [
        "pred = functional_model.predict(X)\n",
        "#pred = (functional_model.predict(X)>0.5).astype(int)\n",
        "pred"
      ],
      "metadata": {
        "id": "pzIrF4k8thnk",
        "outputId": "87ddfa51-54aa-4d08-c5b2-181b7138e1da",
        "colab": {
          "base_uri": "https://localhost:8080/"
        }
      },
      "execution_count": null,
      "outputs": [
        {
          "output_type": "stream",
          "name": "stdout",
          "text": [
            "1/1 [==============================] - 0s 98ms/step\n"
          ]
        },
        {
          "output_type": "execute_result",
          "data": {
            "text/plain": [
              "array([[0.50975066],\n",
              "       [0.9999886 ],\n",
              "       [0.9978503 ],\n",
              "       [0.99999994]], dtype=float32)"
            ]
          },
          "metadata": {},
          "execution_count": 131
        }
      ]
    }
  ]
}